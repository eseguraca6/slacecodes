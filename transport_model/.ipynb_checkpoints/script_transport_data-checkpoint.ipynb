{
 "cells": [
  {
   "cell_type": "code",
   "execution_count": 87,
   "metadata": {
    "scrolled": true
   },
   "outputs": [
    {
     "name": "stdout",
     "output_type": "stream",
     "text": [
      "dataatstart.csv\n",
      "data_halfway_l2m3.csv\n",
      "data_halfway_m3m4.csv\n",
      "data_halfway_m5m6.csv\n",
      "data_l4.csv\n",
      "data_halfway_l4compressor.csv\n",
      "data_compressor.csv\n",
      "              0             1             2             3             4  \\\n",
      "0  1.000000e+00  6.783983e-01  1.094924e+01  1.094924e+01  5.936451e+13   \n",
      "1  4.283268e+09  1.000000e+00  1.879249e+01  1.879249e+01  5.471487e+13   \n",
      "2  2.861036e+08  6.463921e-02  1.000000e+00  1.000000e+00  3.371231e+12   \n",
      "3  2.861036e+08  6.463921e-02  1.000000e+00  1.000000e+00  3.371231e+12   \n",
      "4  3.072230e+10  4.234815e+00  6.925322e+01  6.925322e+01  1.000000e+00   \n",
      "5  3.072230e+10  4.234815e+00  6.925322e+01  6.925322e+01  1.000000e+00   \n",
      "6  2.165781e+17  2.978613e+07  4.879482e+08  4.879482e+08  9.008980e+06   \n",
      "\n",
      "              5             6  \n",
      "0  5.936451e+13  8.332147e+06  \n",
      "1  5.471487e+13  7.679594e+06  \n",
      "2  3.371231e+12  4.731756e+05  \n",
      "3  3.371231e+12  4.731756e+05  \n",
      "4  1.000000e+00  2.246964e-02  \n",
      "5  1.000000e+00  2.246964e-02  \n",
      "6  9.008980e+06  1.000000e+00  \n"
     ]
    },
    {
     "data": {
      "text/plain": [
       "\"\\nplot_generator(data_arrays, \\n               3, 3,\\n               105,105,\\n              0.95, 55, \\n               55, 50, \\n               'x(mm)', r'Irradiance (Watts/mm$^{-2}$)',\\n              'Interest Points', labels, 'ex_transport_01_19_2018' )\\n\\n\\n\\n\\n\""
      ]
     },
     "execution_count": 87,
     "metadata": {},
     "output_type": "execute_result"
    }
   ],
   "source": [
    "import getpass\n",
    "import pandas as pd \n",
    "curr_username = getpass.getuser()\n",
    "\n",
    "if curr_username == 'segura':\n",
    "    transport_data_path = '/Users/' + curr_username + '/Desktop/slac_codes/slacecodes/transport_model/data'\n",
    "    %run '/Users/segura/Desktop/slac_codes/slacecodes/utilities.ipynb'\n",
    "else:\n",
    "    transport_data_path = '/Users/eseguraca.6/Desktop/SLACfiles/slacecodes/transport_model/data'\n",
    "    %run '/Users/eseguraca.6/Desktop/SLACfiles/slacecodes/utilities.ipynb'\n",
    "\n",
    "def filename_generator(path):\n",
    "    process = subprocess.Popen([\"ls\"], cwd=path, \n",
    "                               shell = True, stdout=PIPE, stderr=PIPE)\n",
    "    #to return the values \n",
    "    arr = []\n",
    "    for l in process.stdout:\n",
    "        if '.csv' in str(l):\n",
    "            arr.append(l.decode('utf-8').rstrip())\n",
    "    arr.reverse()\n",
    "    arr[1], arr[5] = arr[5], arr[1]\n",
    "    arr[2], arr[3] = arr[3], arr[2]\n",
    "    arr[4], arr[5] = arr[5], arr[4]\n",
    "    return (arr)    \n",
    "    \n",
    "labels_files = filename_generator(transport_data_path)\n",
    "\n",
    "for i in labels_files:\n",
    "    print(i)\n",
    "\n",
    "#scale for last mirror (L_4); f= 6200 mm; lambda = 600 nm \n",
    "\n",
    "l4_scaling_factor = raleigh_range(5,600)\n",
    "\n",
    "\n",
    "def data_pathfiles_generator(curr_path):\n",
    "    #to return the values \n",
    "    arr = []\n",
    "    #dir_path= Popen([\"ls\", \"-l\"], stdout=PIPE, stderr=PIPE)\n",
    "    \n",
    "    process = subprocess.run([\"ls\"], cwd=curr_path,  stdout=PIPE, stderr=PIPE)\n",
    "    process_stdout, process_stderr = process.stdout, process.stderr\n",
    "    \n",
    "    file_extractor_pos = subprocess.run([\"pwd\"], cwd = curr_path, stdout=PIPE, stderr=PIPE)\n",
    "    file_extractor_pos_stdout, file_extractor_pos_stderr = file_extractor_pos.stdout, file_extractor_pos.stderr\n",
    "    \n",
    "\n",
    "    file_path = file_extractor_pos_stdout.decode('utf-8').rstrip()\n",
    "    \n",
    "    data_files = str(process_stdout.decode('utf-8').rstrip()).format('utf-8').split('\\n')\n",
    "    \n",
    "    for i in data_files:\n",
    "        if 'csv' in str(i):\n",
    "            arr.append(file_path+'/'+i)\n",
    "    arr.reverse()\n",
    "    # swapping postions for ideal orders:\n",
    "    # start, l2l3 , m3m4, l2l3, m5m6, l4, l4-compressor, compressor \n",
    "    #bad order:\n",
    "    # start, l4, m5m6, m3m4, l4-compressor, l2m3, compressor\n",
    "    #  0,   1,   2,    3,       4,           5,     6 \n",
    "    #/Users/segura/Desktop/slac_codes/slacecodes/transport_model/data/dataatstart.csv 0\n",
    "    #/Users/segura/Desktop/slac_codes/slacecodes/transport_model/data/data_l4.csv 1\n",
    "    #/Users/segura/Desktop/slac_codes/slacecodes/transport_model/data/data_halfway_m5m6.csv 2\n",
    "    #/Users/segura/Desktop/slac_codes/slacecodes/transport_model/data/data_halfway_m3m4.csv 3\n",
    "    #/Users/segura/Desktop/slac_codes/slacecodes/transport_model/data/data_halfway_l4compressor.csv 4\n",
    "    #/Users/segura/Desktop/slac_codes/slacecodes/transport_model/data/data_halfway_l2m3.csv 5\n",
    "    #/Users/segura/Desktop/slac_codes/slacecodes/transport_model/data/data_compressor.csv 6\n",
    "    arr[1], arr[5] = arr[5], arr[1]\n",
    "    arr[2], arr[3] = arr[3], arr[2]\n",
    "    arr[4], arr[5] = arr[5], arr[4]\n",
    "    return (arr)\n",
    "\n",
    "\n",
    "\n",
    "data_locations = data_pathfiles_generator(transport_data_path)\n",
    "data_arrays = data_generator(data_locations)\n",
    "\n",
    "\n",
    "def magnification_beam(irradiance_data):\n",
    "    # swapping postions for ideal orders:\n",
    "    # start, m3m4, l2l3, m5m6, l4, l4-compressor, compressor \n",
    "    #bad order:\n",
    "    # start, l4, m5m6, m3m4, l4-compressor, l2m3, compressor \n",
    "    #data size\n",
    "    data_size = np.size(irradiance_data[0][1])\n",
    "    mag_matrix = np.zeros(shape=(len(irradiance_data), len(irradiance_data)))\n",
    "    for i in range(len(irradiance_data)):\n",
    "        for j in range(len(irradiance_data)):\n",
    "            #average magnification'\n",
    "                magnification_factor = np.sum(np.divide(irradiance_data[i][1], irradiance_data[j][1]))\n",
    "                mag_matrix[i][j] = np.divide(magnification_factor, data_size)\n",
    "    return(mag_matrix)\n",
    "\n",
    "\n",
    "mag_mx = magnification_beam(data_arrays)\n",
    "\n",
    "mg_matrix = pd.DataFrame(mag_mx)\n",
    "print(mg_matrix)\n",
    "\n",
    "mg_matrix.to_csv('mg_matrix.csv', sep='\\t', encoding='utf-8')\n",
    "'''\n",
    "def plot_generator(data_arr, \n",
    "                    num_rows, num_cols, \n",
    "                    figx,    figy\n",
    "                   top_adjust_val, label_fontsize, \n",
    "                   title_fontsize, tick_params_fontsize\n",
    "                  ,labelx_string, labely_string, \n",
    "                  title_string, \n",
    "                    label_arr, \n",
    "                    filename):\n",
    "'''\n",
    "\n",
    "'''\n",
    "plot_generator(data_arrays, \n",
    "               3, 3,\n",
    "               105,105,\n",
    "              0.95, 55, \n",
    "               55, 50, \n",
    "               'x(mm)', r'Irradiance (Watts/mm$^{-2}$)',\n",
    "              'Interest Points', labels, 'ex_transport_01_19_2018' )\n",
    "\n",
    "\n",
    "\n",
    "\n",
    "'''\n",
    "\n"
   ]
  },
  {
   "cell_type": "code",
   "execution_count": null,
   "metadata": {
    "collapsed": true
   },
   "outputs": [],
   "source": []
  },
  {
   "cell_type": "code",
   "execution_count": null,
   "metadata": {
    "collapsed": true
   },
   "outputs": [],
   "source": [
    "print('2')"
   ]
  },
  {
   "cell_type": "code",
   "execution_count": null,
   "metadata": {
    "collapsed": true
   },
   "outputs": [],
   "source": []
  },
  {
   "cell_type": "code",
   "execution_count": null,
   "metadata": {
    "collapsed": true
   },
   "outputs": [],
   "source": [
    "import subprocess\n",
    "from subprocess import Popen, PIPE\n",
    "import os\n",
    "#changing directory:\n",
    "\n",
    "\n",
    "#curr_command = subprocess.run(['ls'], stdout = subprocess.PIPE)\n",
    "#dir_process = subprocess.Popen('ls', cwd = 'cd data')\n",
    "#print(curr_command.stdout.decode('utf-8'))\n",
    "\n",
    "#curr_command = subprocess.run(['ls'], stdout = subprocess.PIPE)\n",
    "#print(curr_command.stdout.decode('utf-8'))\n",
    "\n",
    "\n",
    "#process = subprocess.Popen([\"cd\"], cwd=\"/\", stdout=PIPE, stderr=PIPE)\n"
   ]
  },
  {
   "cell_type": "code",
   "execution_count": null,
   "metadata": {
    "collapsed": true
   },
   "outputs": [],
   "source": []
  }
 ],
 "metadata": {
  "kernelspec": {
   "display_name": "Python 3",
   "language": "python",
   "name": "python3"
  },
  "language_info": {
   "codemirror_mode": {
    "name": "ipython",
    "version": 3
   },
   "file_extension": ".py",
   "mimetype": "text/x-python",
   "name": "python",
   "nbconvert_exporter": "python",
   "pygments_lexer": "ipython3",
   "version": "3.6.3"
  }
 },
 "nbformat": 4,
 "nbformat_minor": 2
}
