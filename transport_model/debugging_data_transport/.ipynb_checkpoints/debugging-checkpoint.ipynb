{
 "cells": [
  {
   "cell_type": "code",
   "execution_count": 7,
   "metadata": {},
   "outputs": [
    {
     "name": "stdout",
     "output_type": "stream",
     "text": [
      "you are all set!\n",
      "current environment username:\n",
      "eseguraca.6\n",
      "dataafterM2.csv\n",
      "dataafterM3.csv\n",
      "dataatfterM1.csv\n",
      "dataatfterl2.csv\n",
      "dataatl1.csv\n",
      "dataatstart.csv\n",
      "databeforeM3.csv\n",
      "databeforel2.csv\n",
      "datahalfwayl2m3.csv\n",
      "debugging.ipynb\n",
      "readme.txt\n",
      "\n"
     ]
    }
   ],
   "source": [
    "import getpass\n",
    "import pandas as pd\n",
    "import subprocess\n",
    "from subprocess import Popen, PIPE\n",
    "import os\n",
    "%matplotlib inline\n",
    "def set_work_env():\n",
    "    curr_username = getpass.getuser()\n",
    "    if curr_username == 'segura':\n",
    "        transport_data_path = '/Users/' + curr_username + '/Desktop/slac_codes/slacecodes/transport_model/data'\n",
    "        %run '/Users/segura/Desktop/slac_codes/slacecodes/utilities.ipynb'\n",
    "    else:\n",
    "        transport_data_path = '/Users/eseguraca.6/Desktop/SLACfiles/slacecodes/transport_model/data'\n",
    "        %run '/Users/eseguraca.6/Desktop/SLACfiles/slacecodes/utilities.ipynb'\n",
    "    print(\"you are all set!\")\n",
    "    print(\"current environment username:\")\n",
    "    print(curr_username)\n",
    "    return(transport_data_path)\n",
    "\n",
    "curr_env = set_work_env()\n",
    "\n",
    "curr_command = Popen([\"ls\"], stdout=PIPE, stderr=PIPE)\n",
    "print(curr_command.communicate()[0].decode('utf-8'))\n"
   ]
  }
 ],
 "metadata": {
  "kernelspec": {
   "display_name": "Python 3",
   "language": "python",
   "name": "python3"
  },
  "language_info": {
   "codemirror_mode": {
    "name": "ipython",
    "version": 3
   },
   "file_extension": ".py",
   "mimetype": "text/x-python",
   "name": "python",
   "nbconvert_exporter": "python",
   "pygments_lexer": "ipython3",
   "version": "3.6.2"
  }
 },
 "nbformat": 4,
 "nbformat_minor": 2
}
