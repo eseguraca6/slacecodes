{
 "cells": [
  {
   "cell_type": "code",
   "execution_count": 34,
   "metadata": {
    "scrolled": true
   },
   "outputs": [
    {
     "name": "stdout",
     "output_type": "stream",
     "text": [
      "1.0\n"
     ]
    },
    {
     "data": {
      "text/plain": [
       "\"\\nplot_generator(data_arrays, \\n               3, 3,\\n               105,105,\\n              0.95, 55, \\n               55, 50, \\n               'x(mm)', r'Irradiance (Watts/mm$^{-2}$)',\\n              'Interest Points', labels, 'ex_transport_01_19_2018' )\\n\\n\\n\\n\\n\""
      ]
     },
     "execution_count": 34,
     "metadata": {},
     "output_type": "execute_result"
    }
   ],
   "source": [
    "%run '/Users/eseguraca.6/Desktop/SLACfiles/slacecodes/utilities.ipynb'\n",
    "\n",
    "#scale for last mirror (L_4); f= 6200 mm; lambda = 600 nm \n",
    "\n",
    "l4_scaling_factor = raleigh_range(5,600)\n",
    "\n",
    "transport_data_path = '/Users/eseguraca.6/Desktop/SLACfiles/slacecodes/transport_model/data'\n",
    "\n",
    "labels_files = filename_generator(transport_data_path)\n",
    "\n",
    "def data_pathfiles_generator(curr_path):\n",
    "    #to return the values \n",
    "    arr = []\n",
    "    #dir_path= Popen([\"ls\", \"-l\"], stdout=PIPE, stderr=PIPE)\n",
    "    \n",
    "    process = subprocess.run([\"ls\"], cwd=curr_path,  stdout=PIPE, stderr=PIPE)\n",
    "    process_stdout, process_stderr = process.stdout, process.stderr\n",
    "    \n",
    "    file_extractor_pos = subprocess.run([\"pwd\"], cwd = curr_path, stdout=PIPE, stderr=PIPE)\n",
    "    file_extractor_pos_stdout, file_extractor_pos_stderr = file_extractor_pos.stdout, file_extractor_pos.stderr\n",
    "    \n",
    "\n",
    "    file_path = file_extractor_pos_stdout.decode('utf-8').rstrip()\n",
    "    \n",
    "    data_files = str(process_stdout.decode('utf-8').rstrip()).format('utf-8').split('\\n')\n",
    "    \n",
    "    for i in data_files:\n",
    "        if 'csv' in str(i):\n",
    "            arr.append(file_path+'/'+i)\n",
    "    arr.reverse()\n",
    "    return (arr)\n",
    "\n",
    "\n",
    "\n",
    "data_locations = data_pathfiles_generator(transport_data_path)\n",
    "data_arrays = data_generator(data_locations)\n",
    "labels = []\n",
    "for i in labels_files:\n",
    "    labels.append(i.strip('.csv'))\n",
    "\n",
    "\n",
    "\n",
    "\n",
    "    \n",
    "'''\n",
    "def plot_generator(data_arr, \n",
    "                    num_rows, num_cols, \n",
    "                    figx,    figy\n",
    "                   top_adjust_val, label_fontsize, \n",
    "                   title_fontsize, tick_params_fontsize\n",
    "                  ,labelx_string, labely_string, \n",
    "                  title_string, \n",
    "                    label_arr, \n",
    "                    filename):\n",
    "'''\n",
    "\n",
    "'''\n",
    "plot_generator(data_arrays, \n",
    "               3, 3,\n",
    "               105,105,\n",
    "              0.95, 55, \n",
    "               55, 50, \n",
    "               'x(mm)', r'Irradiance (Watts/mm$^{-2}$)',\n",
    "              'Interest Points', labels, 'ex_transport_01_19_2018' )\n",
    "\n",
    "\n",
    "\n",
    "\n",
    "'''\n",
    "\n"
   ]
  },
  {
   "cell_type": "code",
   "execution_count": null,
   "metadata": {},
   "outputs": [],
   "source": []
  },
  {
   "cell_type": "code",
   "execution_count": null,
   "metadata": {},
   "outputs": [],
   "source": [
    "print('2')"
   ]
  },
  {
   "cell_type": "code",
   "execution_count": null,
   "metadata": {},
   "outputs": [],
   "source": []
  },
  {
   "cell_type": "code",
   "execution_count": null,
   "metadata": {},
   "outputs": [],
   "source": [
    "import subprocess\n",
    "from subprocess import Popen, PIPE\n",
    "import os\n",
    "#changing directory:\n",
    "\n",
    "\n",
    "#curr_command = subprocess.run(['ls'], stdout = subprocess.PIPE)\n",
    "#dir_process = subprocess.Popen('ls', cwd = 'cd data')\n",
    "#print(curr_command.stdout.decode('utf-8'))\n",
    "\n",
    "#curr_command = subprocess.run(['ls'], stdout = subprocess.PIPE)\n",
    "#print(curr_command.stdout.decode('utf-8'))\n",
    "\n",
    "\n",
    "#process = subprocess.Popen([\"cd\"], cwd=\"/\", stdout=PIPE, stderr=PIPE)\n"
   ]
  },
  {
   "cell_type": "code",
   "execution_count": null,
   "metadata": {},
   "outputs": [],
   "source": []
  }
 ],
 "metadata": {
  "kernelspec": {
   "display_name": "Python 3",
   "language": "python",
   "name": "python3"
  },
  "language_info": {
   "codemirror_mode": {
    "name": "ipython",
    "version": 3
   },
   "file_extension": ".py",
   "mimetype": "text/x-python",
   "name": "python",
   "nbconvert_exporter": "python",
   "pygments_lexer": "ipython3",
   "version": "3.6.2"
  }
 },
 "nbformat": 4,
 "nbformat_minor": 2
}
