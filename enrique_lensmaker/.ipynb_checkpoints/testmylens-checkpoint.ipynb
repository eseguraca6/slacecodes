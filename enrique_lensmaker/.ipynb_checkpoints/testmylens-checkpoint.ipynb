{
 "cells": [
  {
   "cell_type": "code",
   "execution_count": null,
   "metadata": {},
   "outputs": [],
   "source": [
    "%run '/Users/eseguraca.6/Desktop/SLACfiles/slacecodes/utilities.ipynb'\n",
    "\n",
    "curr_path = Popen([\"ls\"], stdout=PIPE, stderr=PIPE)\n",
    "\n",
    "c_out, c_err = curr_path.communicate()\n",
    "\n",
    "s = (c_out.decode('utf-8'))\n",
    "for i in s:\n",
    "    print(s)"
   ]
  }
 ],
 "metadata": {
  "kernelspec": {
   "display_name": "Python 3",
   "language": "python",
   "name": "python3"
  }
 },
 "nbformat": 4,
 "nbformat_minor": 2
}
