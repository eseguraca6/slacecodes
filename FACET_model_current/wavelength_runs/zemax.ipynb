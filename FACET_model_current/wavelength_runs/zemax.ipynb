{
 "cells": [
  {
   "cell_type": "code",
   "execution_count": 13,
   "metadata": {},
   "outputs": [
    {
     "name": "stdout",
     "output_type": "stream",
     "text": [
      "Could not initiate instance.\n"
     ]
    },
    {
     "name": "stderr",
     "output_type": "stream",
     "text": [
      "global name '_dde' is not defined: Another application may be using a DDE server!"
     ]
    },
    {
     "ename": "AttributeError",
     "evalue": "'NoneType' object has no attribute 'zGetVersion'",
     "output_type": "error",
     "traceback": [
      "\u001b[0;31m---------------------------------------------------------------------------\u001b[0m",
      "\u001b[0;31mAttributeError\u001b[0m                            Traceback (most recent call last)",
      "\u001b[0;32m<ipython-input-13-fef68129d3c8>\u001b[0m in \u001b[0;36m<module>\u001b[0;34m()\u001b[0m\n\u001b[1;32m      8\u001b[0m \u001b[0mzemax_link\u001b[0m \u001b[0;34m=\u001b[0m \u001b[0mpyz\u001b[0m\u001b[0;34m.\u001b[0m\u001b[0mcreateLink\u001b[0m\u001b[0;34m(\u001b[0m\u001b[0;34m)\u001b[0m\u001b[0;34m\u001b[0m\u001b[0m\n\u001b[1;32m      9\u001b[0m \u001b[0;34m\u001b[0m\u001b[0m\n\u001b[0;32m---> 10\u001b[0;31m \u001b[0;32mprint\u001b[0m\u001b[0;34m(\u001b[0m\u001b[0mzemax_link\u001b[0m\u001b[0;34m.\u001b[0m\u001b[0mzGetVersion\u001b[0m\u001b[0;34m(\u001b[0m\u001b[0;34m)\u001b[0m\u001b[0;34m)\u001b[0m\u001b[0;34m\u001b[0m\u001b[0m\n\u001b[0m\u001b[1;32m     11\u001b[0m \u001b[0mcurr_file\u001b[0m \u001b[0;34m=\u001b[0m \u001b[0;34m'/mnt/c/Users/pwfa-facet2/Desktop/slacecodes/FACET_model_current/wavelength_runs/transport.zmx'\u001b[0m\u001b[0;34m\u001b[0m\u001b[0m\n\u001b[1;32m     12\u001b[0m \u001b[0;34m\u001b[0m\u001b[0m\n",
      "\u001b[0;31mAttributeError\u001b[0m: 'NoneType' object has no attribute 'zGetVersion'"
     ]
    }
   ],
   "source": [
    "import os\n",
    "import numpy as np\n",
    "import matplotlib.pyplot as plt\n",
    "import pyzdde.zdde as pyz\n",
    "import pyzdde.systems as optsys\n",
    "\n",
    "%matplotlib inline\n",
    "zemax_link = pyz.createLink()\n",
    "\n",
    "print(zemax_link.zGetVersion())\n",
    "curr_file = '/mnt/c/Users/pwfa-facet2/Desktop/slacecodes/FACET_model_current/wavelength_runs/transport.zmx'\n",
    "\n",
    "\n",
    "pyz.closeLink()"
   ]
  },
  {
   "cell_type": "code",
   "execution_count": null,
   "metadata": {},
   "outputs": [],
   "source": []
  },
  {
   "cell_type": "code",
   "execution_count": 6,
   "metadata": {},
   "outputs": [
    {
     "ename": "ImportError",
     "evalue": "No module named win32com.client.gencache",
     "output_type": "error",
     "traceback": [
      "\u001b[0;31m---------------------------------------------------------------------------\u001b[0m",
      "\u001b[0;31mImportError\u001b[0m                               Traceback (most recent call last)",
      "\u001b[0;32m<ipython-input-6-4087cc6dbcfd>\u001b[0m in \u001b[0;36m<module>\u001b[0;34m()\u001b[0m\n\u001b[0;32m----> 1\u001b[0;31m \u001b[0;32mfrom\u001b[0m \u001b[0mwin32com\u001b[0m\u001b[0;34m.\u001b[0m\u001b[0mclient\u001b[0m\u001b[0;34m.\u001b[0m\u001b[0mgencache\u001b[0m \u001b[0;32mimport\u001b[0m \u001b[0mEnsureDispatch\u001b[0m\u001b[0;34m,\u001b[0m \u001b[0mEnsureModule\u001b[0m\u001b[0;34m\u001b[0m\u001b[0m\n\u001b[0m\u001b[1;32m      2\u001b[0m \u001b[0;32mfrom\u001b[0m \u001b[0mwin32com\u001b[0m\u001b[0;34m.\u001b[0m\u001b[0mclient\u001b[0m \u001b[0;32mimport\u001b[0m \u001b[0mCastTo\u001b[0m\u001b[0;34m,\u001b[0m \u001b[0mconstants\u001b[0m\u001b[0;34m\u001b[0m\u001b[0m\n\u001b[1;32m      3\u001b[0m \u001b[0;34m\u001b[0m\u001b[0m\n\u001b[1;32m      4\u001b[0m \u001b[0;31m# Notes\u001b[0m\u001b[0;34m\u001b[0m\u001b[0;34m\u001b[0m\u001b[0m\n\u001b[1;32m      5\u001b[0m \u001b[0;31m#\u001b[0m\u001b[0;34m\u001b[0m\u001b[0;34m\u001b[0m\u001b[0m\n",
      "\u001b[0;31mImportError\u001b[0m: No module named win32com.client.gencache"
     ]
    }
   ],
   "source": [
    "from win32com.client.gencache import EnsureDispatch, EnsureModule\n",
    "from win32com.client import CastTo, constants\n",
    "\n",
    "# Notes\n",
    "#\n",
    "# The python project and script was tested with the following tools:\n",
    "#       Python 3.4.3 for Windows (32-bit) (https://www.python.org/downloads/) - Python interpreter\n",
    "#       Python for Windows Extensions (32-bit, Python 3.4) (http://sourceforge.net/projects/pywin32/) - for COM support\n",
    "#       Microsoft Visual Studio Express 2013 for Windows Desktop (https://www.visualstudio.com/en-us/products/visual-studio-express-vs.aspx) - easy-to-use IDE\n",
    "#       Python Tools for Visual Studio (https://pytools.codeplex.com/) - integration into Visual Studio\n",
    "#\n",
    "# Note that Visual Studio and Python Tools make development easier, however this python script should should run without either installed.\n",
    "\n",
    "\n",
    "# make sure the Python wrappers are available for the COM client and\n",
    "# interfaces\n",
    "EnsureModule('ZOSAPI_Interfaces', 0, 16, 5)\n",
    "EnsureModule('ZOSAPI', 0, 16, 0)\n",
    "# Note - the above can also be accomplished using 'makepy.py' in the\n",
    "# following directory:\n",
    "#      {PythonEnv}\\Lib\\site-packages\\wind32com\\client\\\n",
    "# Also note that the generate wrappers do not get refreshed when the\n",
    "# COM library changes.\n",
    "# To refresh the wrappers, you can manually delete everything in the\n",
    "# cache directory:\n",
    "#\t   {PythonEnv}\\Lib\\site-packages\\win32com\\gen_py\\*.*\n",
    "\n",
    "TheConnection = EnsureDispatch(\"ZOSAPI.ZOSAPI_Connection\")\n",
    "if TheConnection is None:\n",
    "    raise Exception(\"Unable to intialize COM connection to ZOSAPI\")\n",
    "\n",
    "TheApplication = TheConnection.ConnectAsExtension(0)\n",
    "if TheApplication is None:\n",
    "    raise Exception(\"Unable to acquire ZOSAPI application\")\n",
    "\n",
    "if TheApplication.IsValidLicenseForAPI == False:\n",
    "    raise Exception(\"License is not valid for ZOSAPI use\")\n",
    "\n",
    "TheSystem = TheApplication.PrimarySystem\n",
    "if TheSystem is None:\n",
    "    raise Exception(\"Unable to acquire Primary system\")\n",
    "\n",
    "print('Connected to OpticStudio')\n",
    "\n",
    "# The connection should now be ready to use.  For example:\n",
    "print('Serial #: ', TheApplication.SerialCode)\n"
   ]
  }
 ],
 "metadata": {
  "kernelspec": {
   "display_name": "Python 3",
   "language": "python",
   "name": "python3"
  },
  "language_info": {
   "codemirror_mode": {
    "name": "ipython",
    "version": 2
   },
   "file_extension": ".py",
   "mimetype": "text/x-python",
   "name": "python",
   "nbconvert_exporter": "python",
   "pygments_lexer": "ipython2",
   "version": "2.7.12"
  }
 },
 "nbformat": 4,
 "nbformat_minor": 2
}
