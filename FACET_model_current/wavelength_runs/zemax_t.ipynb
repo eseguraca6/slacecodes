{
 "cells": [
  {
   "cell_type": "code",
   "execution_count": 246,
   "metadata": {},
   "outputs": [
    {
     "data": {
      "text/plain": [
       "[<matplotlib.lines.Line2D at 0x11eea5e10>]"
      ]
     },
     "execution_count": 246,
     "metadata": {},
     "output_type": "execute_result"
    },
    {
     "data": {
      "image/png": "[encoded data removed]",
      "text/plain": [
       "<matplotlib.figure.Figure at 0x11ea08da0>"
      ]
     },
     "metadata": {},
     "output_type": "display_data"
    }
   ],
   "source": [
    "import pandas as pd\n",
    "import matplotlib.pyplot as plt\n",
    "import numpy as np\n",
    "TiSaph_5_optics = 'tisaph_5mm_20mm_optics.csv'\n",
    "\n",
    "tisaph_5 = pd.read_csv(TiSaph_5_optics)\n",
    "\n",
    "plt.plot(tisaph_5, marker='o')"
   ]
  },
  {
   "cell_type": "code",
   "execution_count": 255,
   "metadata": {},
   "outputs": [
    {
     "name": "stdout",
     "output_type": "stream",
     "text": [
      "0 0\n",
      "1 541\n",
      "2 568\n",
      "3 1085\n",
      "4 1602\n",
      "5 2119\n",
      "6 2636\n",
      "7 2636\n",
      "8 2736\n",
      "9 3506.5\n",
      "10 4277.0\n",
      "11 5047.5\n",
      "12 5818.0\n",
      "13 5818.0\n",
      "14 7348.25\n",
      "15 8878.5\n",
      "16 10408.75\n",
      "17 11939.0\n",
      "18 11939.0\n",
      "19 12442.075\n",
      "20 12945.150000000001\n",
      "21 13448.225000000002\n",
      "22 13951.300000000003\n",
      "23 14333.000000000004\n",
      "24 17267.575000000004\n",
      "25 20202.150000000005\n",
      "26 23136.725000000006\n",
      "27 26071.300000000007\n",
      "28 26071.300000000007\n",
      "29 26453.000000000007\n",
      "30 26925.500000000007\n",
      "31 27398.000000000007\n",
      "32 27870.500000000007\n",
      "33 28343.000000000007\n"
     ]
    }
   ],
   "source": [
    "pos = [0] #s\n",
    "pos.append(pos[-1]+541) #l1\n",
    "pos.append(pos[-1]+27) #m1\n",
    "\n",
    "for i in range(0,4):\n",
    "    pos.append(pos[-1]+517)\n",
    "\n",
    "pos.append(pos[-1]) #m2\n",
    "pos.append(pos[-1]+100) #l2 \n",
    "\n",
    "for i in range(0,4):\n",
    "    pos.append(pos[-1]+770.5)\n",
    "\n",
    "pos.append(pos[-1]) #m3\n",
    "\n",
    "for i in range(0,4):\n",
    "    pos.append(pos[-1]+1530.25)\n",
    "    \n",
    "pos.append(pos[-1]) #m4\n",
    "\n",
    "for i in range(0,4):\n",
    "    pos.append(pos[-1]+503.075)\n",
    "\n",
    "pos.append(pos[-1]+381.7)\n",
    "\n",
    "for i in range(0,4):\n",
    "    pos.append(pos[-1]+2934.575)\n",
    "\n",
    "pos.append(pos[-1])\n",
    "pos.append(pos[-1]+381.7)\n",
    "\n",
    "for i in range(0,4):\n",
    "    pos.append(pos[-1]+472.5)\n",
    "\n",
    "for i in range(len(pos)):\n",
    "    print(i, pos[i])\n",
    "\n"
   ]
  },
  {
   "cell_type": "code",
   "execution_count": 251,
   "metadata": {},
   "outputs": [],
   "source": [
    "ti_5mm_20 = np.loadtxt('tisaph_5mm_20mm_optics.csv')\n",
    "\n",
    "\n"
   ]
  },
  {
   "cell_type": "code",
   "execution_count": null,
   "metadata": {},
   "outputs": [],
   "source": []
  }
 ],
 "metadata": {
  "kernelspec": {
   "display_name": "Python 3",
   "language": "python",
   "name": "python3"
  },
  "language_info": {
   "codemirror_mode": {
    "name": "ipython",
    "version": 3
   },
   "file_extension": ".py",
   "mimetype": "text/x-python",
   "name": "python",
   "nbconvert_exporter": "python",
   "pygments_lexer": "ipython3",
   "version": "3.6.2"
  }
 },
 "nbformat": 4,
 "nbformat_minor": 2
}
