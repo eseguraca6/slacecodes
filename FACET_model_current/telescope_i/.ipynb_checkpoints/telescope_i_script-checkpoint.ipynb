{
 "cells": [
  {
   "cell_type": "code",
   "execution_count": 7,
   "metadata": {},
   "outputs": [
    {
     "name": "stdout",
     "output_type": "stream",
     "text": [
      "/Users/eseguraca.6/Desktop/SLACfiles/slacecodes/FACET_model_current/telescope_i/drift0.csv\n",
      "/Users/eseguraca.6/Desktop/SLACfiles/slacecodes/FACET_model_current/telescope_i/drift1.csv\n",
      "/Users/eseguraca.6/Desktop/SLACfiles/slacecodes/FACET_model_current/telescope_i/drift2.csv\n",
      "/Users/eseguraca.6/Desktop/SLACfiles/slacecodes/FACET_model_current/telescope_i/drift3.csv\n",
      "/Users/eseguraca.6/Desktop/SLACfiles/slacecodes/FACET_model_current/telescope_i/drift4.csv\n",
      "/Users/eseguraca.6/Desktop/SLACfiles/slacecodes/FACET_model_current/telescope_i/drift5.csv\n",
      "/Users/eseguraca.6/Desktop/SLACfiles/slacecodes/FACET_model_current/telescope_i/drift6.csv\n",
      "/Users/eseguraca.6/Desktop/SLACfiles/slacecodes/FACET_model_current/telescope_i/drift7.csv\n",
      "/Users/eseguraca.6/Desktop/SLACfiles/slacecodes/FACET_model_current/telescope_i/drift8.csv\n",
      "/Users/eseguraca.6/Desktop/SLACfiles/slacecodes/FACET_model_current/telescope_i/drift9.csv\n",
      "/Users/eseguraca.6/Desktop/SLACfiles/slacecodes/FACET_model_current/telescope_i/drift10.csv\n"
     ]
    }
   ],
   "source": [
    "%run '/Users/eseguraca.6/Desktop/SLACfiles/slacecodes/utilities.ipynb'\n",
    "\n",
    "\n",
    "cpath= Popen(['pwd'], stdout=PIPE, stderr=PIPE).communicate()[0].decode('utf-8').rstrip()\n",
    "\n",
    "f = filename_generator(cpath)\n",
    "data_paths = data_pathfiles_generator(cpath)\n",
    "data_paths.sort()\n",
    "data_paths.insert(10, data_paths.pop(2))\n",
    "for i in data_paths:\n",
    "    print(i)"
   ]
  },
  {
   "cell_type": "code",
   "execution_count": null,
   "metadata": {},
   "outputs": [],
   "source": []
  }
 ],
 "metadata": {
  "kernelspec": {
   "display_name": "Python 3",
   "language": "python",
   "name": "python3"
  },
  "language_info": {
   "codemirror_mode": {
    "name": "ipython",
    "version": 3
   },
   "file_extension": ".py",
   "mimetype": "text/x-python",
   "name": "python",
   "nbconvert_exporter": "python",
   "pygments_lexer": "ipython3",
   "version": "3.6.2"
  }
 },
 "nbformat": 4,
 "nbformat_minor": 2
}
