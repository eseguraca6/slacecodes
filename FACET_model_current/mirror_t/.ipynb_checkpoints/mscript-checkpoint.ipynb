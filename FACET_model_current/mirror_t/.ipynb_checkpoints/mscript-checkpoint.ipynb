{
 "cells": [
  {
   "cell_type": "code",
   "execution_count": 4,
   "metadata": {},
   "outputs": [
    {
     "name": "stdout",
     "output_type": "stream",
     "text": [
      "/Users/eseguraca.6/Desktop/SLACfiles/slacecodes/FACET_model_current/mirror_t\n",
      "[ 5.00000006  5.00014612  5.00058373  5.00131304  5.00058373  5.00014612\n",
      "  5.00000006]\n"
     ]
    },
    {
     "name": "stderr",
     "output_type": "stream",
     "text": [
      "/anaconda/lib/python3.6/site-packages/scipy/optimize/minpack.py:779: OptimizeWarning: Covariance of the parameters could not be estimated\n",
      "  category=OptimizeWarning)\n"
     ]
    }
   ],
   "source": [
    "%run '/Users/eseguraca.6/Desktop/SLACfiles/slacecodes/utilities.ipynb'\n",
    "\n",
    "\n",
    "cpath= Popen(['pwd'], stdout=PIPE, stderr=PIPE).communicate()[0].decode('utf-8').rstrip()\n",
    "print(cpath)\n",
    "f = filename_generator(cpath)\n",
    "data_paths = data_pathfiles_generator(cpath)\n",
    "\n",
    "raw_data = data_generator(data_paths)\n",
    "\n",
    "waists = np.multiply(2, fit_parameter_extractor(gaussian, raw_data)[2])\n",
    "print(waists)\n",
    "\n",
    "pos = np.arange(1000,7000,1000)\n",
    "x = pos\n",
    "y = waists\n",
    "cycol = cycle('bgrcmk')\n",
    "fig = plt.figure(figsize=(70,30))\n",
    "axes = fig.add_subplot(1, 1, 1)\n",
    "axes.scatter(x, y, color = 'orange', linestyle = '-.', s=400)\n",
    "axes.plot(x,y, c=next(cycol), linestyle = '-.')\n",
    "axes.tick_params(axis='both',labelsize=55)\n",
    "axes.legend(fontsize =55)\n",
    "axes.set_xlabel(str('Beam Position (mm)'), fontsize=55+10)\n",
    "axes.set_ylabel(str('Beam Size(mm)'), fontsize=55+10)\n",
    "axes.tick_params(axis='both',labelsize=55+5)\n",
    "axes.legend(loc = 'upper right', fontsize=55)\n",
    "fig.suptitle('Beam Size Evolution Along Transport Starting from $M_1$', fontsize=55+15)\n",
    "fig.tight_layout()\n",
    "fig.subplots_adjust(top=0.95)\n",
    "\n",
    "\n",
    "\n",
    "fig.savefig(cpath+ '/'+'1mirror' + \"-\" + datetime.now().strftime(\"%Y-%m-%d-%H-%M-%S\")+'.jpg', dp1=16000)"
   ]
  }
 ],
 "metadata": {
  "kernelspec": {
   "display_name": "Python 3",
   "language": "python",
   "name": "python3"
  },
  "language_info": {
   "codemirror_mode": {
    "name": "ipython",
    "version": 3
   },
   "file_extension": ".py",
   "mimetype": "text/x-python",
   "name": "python",
   "nbconvert_exporter": "python",
   "pygments_lexer": "ipython3",
   "version": "3.6.2"
  }
 },
 "nbformat": 4,
 "nbformat_minor": 2
}
