{
 "cells": [
  {
   "cell_type": "code",
   "execution_count": 135,
   "metadata": {
    "scrolled": true
   },
   "outputs": [
    {
     "ename": "SyntaxError",
     "evalue": "invalid syntax (<ipython-input-135-89f4c1472fc4>, line 159)",
     "output_type": "error",
     "traceback": [
      "\u001b[0;36m  File \u001b[0;32m\"<ipython-input-135-89f4c1472fc4>\"\u001b[0;36m, line \u001b[0;32m159\u001b[0m\n\u001b[0;31m    process =Popen([\"ls\"], cwp=path stdout=PIPE, stderr=PIPE)\u001b[0m\n\u001b[0m                                         ^\u001b[0m\n\u001b[0;31mSyntaxError\u001b[0m\u001b[0;31m:\u001b[0m invalid syntax\n"
     ]
    },
    {
     "name": "stdout",
     "output_type": "stream",
     "text": [
      "['start', 'm6', 'm5', 'm4', 'm3', 'm2', 'm1', 'l5', 'l4', 'l3', 'l2', 'l1', 'end']\n",
      "0 1 2 3 4 5 6 7 8 9 10 11 12\n"
     ]
    },
    {
     "ename": "TypeError",
     "evalue": "data_pathfiles_generator() missing 1 required positional argument: 'cp'",
     "output_type": "error",
     "traceback": [
      "\u001b[0;31m---------------------------------------------------------------------------\u001b[0m",
      "\u001b[0;31mTypeError\u001b[0m                                 Traceback (most recent call last)",
      "\u001b[0;32m<ipython-input-135-259d08f896e3>\u001b[0m in \u001b[0;36m<module>\u001b[0;34m()\u001b[0m\n\u001b[1;32m     36\u001b[0m \u001b[0mprint\u001b[0m\u001b[0;34m(\u001b[0m\u001b[0mfnames\u001b[0m\u001b[0;34m)\u001b[0m\u001b[0;34m\u001b[0m\u001b[0m\n\u001b[1;32m     37\u001b[0m \u001b[0mprint\u001b[0m\u001b[0;34m(\u001b[0m\u001b[0;34m*\u001b[0m\u001b[0mrange\u001b[0m\u001b[0;34m(\u001b[0m\u001b[0;36m0\u001b[0m\u001b[0;34m,\u001b[0m \u001b[0mlen\u001b[0m\u001b[0;34m(\u001b[0m\u001b[0mfnames\u001b[0m\u001b[0;34m)\u001b[0m\u001b[0;34m)\u001b[0m\u001b[0;34m)\u001b[0m\u001b[0;34m\u001b[0m\u001b[0m\n\u001b[0;32m---> 38\u001b[0;31m \u001b[0mfpaths\u001b[0m \u001b[0;34m=\u001b[0m \u001b[0mdata_pathfiles_generator\u001b[0m\u001b[0;34m(\u001b[0m\u001b[0mcurr_ls_out\u001b[0m\u001b[0;34m)\u001b[0m\u001b[0;34m\u001b[0m\u001b[0m\n\u001b[0m\u001b[1;32m     39\u001b[0m \u001b[0mfpaths\u001b[0m\u001b[0;34m.\u001b[0m\u001b[0mreverse\u001b[0m\u001b[0;34m(\u001b[0m\u001b[0;34m)\u001b[0m\u001b[0;34m\u001b[0m\u001b[0m\n\u001b[1;32m     40\u001b[0m \u001b[0;34m\u001b[0m\u001b[0m\n",
      "\u001b[0;31mTypeError\u001b[0m: data_pathfiles_generator() missing 1 required positional argument: 'cp'"
     ]
    }
   ],
   "source": [
    "%run '/Users/eseguraca.6/Desktop/SLACfiles/slacecodes/utilities.ipynb'\n",
    "from datetime import *\n",
    "import sys\n",
    "\n",
    "curr_ls = Popen(['pwd'], stdout=PIPE, stderr=PIPE)\n",
    "curr_ls_out = curr_ls.communicate()[0].decode('utf-8').rstrip()\n",
    "\n",
    "def my_plot(x, y, figx, figy, fontsize, labels, labelx, labely, title, filename):\n",
    "    cycol = cycle('bgrcmk')\n",
    "    fig = plt.figure(figsize=(figx,figy))\n",
    "    axes = fig.add_subplot(1, 1, 1)\n",
    "    axes.scatter(x, y, c = next(cycol), linestyle = '-.', s=200)\n",
    "    axes.plot(x,y, c=next(cycol), linestyle = '-.')\n",
    "    axes.tick_params(axis='both',labelsize=fontsize)\n",
    "    axes.legend(fontsize =fontsize)\n",
    "    axes.set_xlabel(str(labelx), fontsize=fontsize+10)\n",
    "    axes.set_ylabel(str(labely), fontsize=fontsize+10)\n",
    "    axes.tick_params(axis='both',labelsize=fontsize+5)\n",
    "    axes.legend(loc = 'upper right', fontsize=fontsize)\n",
    "    fig.suptitle(title, fontsize=fontsize+15)\n",
    "    fig.tight_layout()\n",
    "    fig.subplots_adjust(top=0.95)\n",
    "    for l, xpt, ypt in zip(labels, x,y):\n",
    "        axes.text(xpt,ypt,str(l), fontsize=fontsize+5)\n",
    "    fig.savefig(curr_ls_out+ '/'+str(filename) + \"-\" + datetime.now().strftime(\"%Y-%m-%d-%H-%M-%S\")+'.jpg', dp1=1600)\n",
    "\n",
    "\"\"\"\n",
    "my_plot(xposl1, l1_prop, 20, 20, 20, 'x', 'beam size', 'beam propagation l1', 'test1')\n",
    "my_plot(xposl2, l2_prop, 20, 20, 20, 'x', 'beam size', 'beam propagation l2', 'test1')\n",
    "\"\"\"\n",
    "\n",
    "\n",
    "\n",
    "fnames = filename_generator(curr_ls_out)\n",
    "fnames.reverse()\n",
    "print(fnames)\n",
    "print(*range(0, len(fnames)))\n",
    "fpaths = data_pathfiles_generator(curr_ls_out)\n",
    "fpaths.reverse()\n",
    "\n",
    "\n",
    "mpath = []\n",
    "lpath = []\n",
    "for i in range(len(fpaths)):\n",
    "    if i >= 1 and i <=6: \n",
    "        mpath.append(fpaths[i])\n",
    "    if i > 6 and i < len(fpaths)-1:\n",
    "        lpath.append(fpaths[i])\n",
    "\n",
    "        \n",
    "mdata = data_generator(mpath)\n",
    "ldata = data_generator(lpath)\n",
    "alldata = data_generator(fpaths)\n",
    "\n",
    "\n",
    "waist_m = np.multiply(2, fit_parameter_extractor(gaussian, mdata)[2])\n",
    "waist_l = np.multiply(2, fit_parameter_extractor(gaussian, ldata)[2])\n",
    "allwaist = np.multiply(2, fit_parameter_extractor(gaussian, alldata)[2])\n",
    "\n",
    "for i in lpath:\n",
    "    print(i)\n",
    "print(waist_l)\n",
    "twaist = [allwaist[6], allwaist[11], # m1, l1, l2\n",
    "          allwaist[10], \n",
    "          \n",
    "          allwaist[5], allwaist[9], # m2, l3, m3\n",
    "         allwaist[4], \n",
    "          \n",
    "          allwaist[3], allwaist[8], #m4,l4, m5\n",
    "         allwaist[2], \n",
    "          \n",
    "          allwaist[1], allwaist[7], #m6, l5, end\n",
    "         allwaist[12]] #the end\n",
    "\n",
    "pos = [0, 812, 1009, \n",
    "       2095, 2195, 5176.7, \n",
    "       11297.16, 13691.16, 14072.86,\n",
    "       26462.86, 26844.56, 29471.56]\n",
    "print(twaist)\n",
    "labels = ['$M_1$', '$L_1$', '$L_2$', '$M_2$', '$L_3$', '$M_3$', \n",
    "         '$M_4$', '$L_4$', '$M_5$', '$M_6$', '$L_5$', 'Comp.']\n",
    "\n",
    "\n",
    "\n",
    "#my_plot(pos, twaist, 60, 30, 45, labels, 'Beam Position (mm)', 'Beam Size(mm)', 'Beam Size Evolution Along Transport', 'sashafile')\n"
   ]
  },
  {
   "cell_type": "code",
   "execution_count": 178,
   "metadata": {},
   "outputs": [
    {
     "name": "stdout",
     "output_type": "stream",
     "text": [
      "39\n",
      "/Users/eseguraca.6/Desktop/SLACfiles/slacecodes/FACET_model_current/new_build_transport/10.csv\n",
      "/Users/eseguraca.6/Desktop/SLACfiles/slacecodes/FACET_model_current/new_build_transport/10.5.csv\n",
      "/Users/eseguraca.6/Desktop/SLACfiles/slacecodes/FACET_model_current/new_build_transport/10.4.csv\n",
      "/Users/eseguraca.6/Desktop/SLACfiles/slacecodes/FACET_model_current/new_build_transport/10.2.csv\n",
      "/Users/eseguraca.6/Desktop/SLACfiles/slacecodes/FACET_model_current/new_build_transport/10.1.csv\n"
     ]
    },
    {
     "name": "stderr",
     "output_type": "stream",
     "text": [
      "/anaconda/lib/python3.6/site-packages/scipy/optimize/minpack.py:779: OptimizeWarning: Covariance of the parameters could not be estimated\n",
      "  category=OptimizeWarning)\n"
     ]
    }
   ],
   "source": [
    "p = '/Users/eseguraca.6/Desktop/SLACfiles/slacecodes/FACET_model_current/new_build_transport'\n",
    "\n",
    "curr_ls = Popen(['pwd'], cwd=p ,stdout=PIPE, stderr=PIPE)\n",
    "curr_ls_out = curr_ls.communicate()[0].decode('utf-8').rstrip()\n",
    "def data_pathfiles_generator(curr_path, cp):\n",
    "    #to return the values \n",
    "    arr = []\n",
    "    #dir_path= Popen([\"ls\", \"-l\"], stdout=PIPE, stderr=PIPE)\n",
    "    process=  Popen([\"ls\"], cwd=cp, stdout=PIPE, stderr=PIPE)\n",
    "    process_stdout = process.communicate()[0]\n",
    "    files_arr = process_stdout.decode('utf-8').splitlines()\n",
    "    file_extractor_pos = Popen([\"pwd\"], cwd=cp,stdout=PIPE, stderr=PIPE)\n",
    "    file_extractor_pos_stdout= file_extractor_pos.communicate()[0].decode('utf-8').rstrip()\n",
    "    \n",
    "    for file in files_arr:\n",
    "        if '.csv' in file:\n",
    "            arr.append(file_extractor_pos_stdout+'/'+file)  \n",
    "    return(arr)\n",
    "r_paths = data_pathfiles_generator(curr_ls_out, p)\n",
    "r_paths.reverse()\n",
    "print(len(r_paths))\n",
    "\n",
    "    \n",
    "data_paths = [r_paths[38]]\n",
    "\n",
    "l1_m2 = []\n",
    "lr_gallery = []\n",
    "inside_gallery = []\n",
    "m4_l3 = []\n",
    "m5_m6 =[]\n",
    "l4_comp =[]\n",
    "for i in r_paths: \n",
    "    if '/1.' in i:\n",
    "        data_paths.append(i)\n",
    "    if '/2.' in i:\n",
    "        l1_m2.append(i)\n",
    "    if '/4.' in i:\n",
    "        lr_gallery.append(i)\n",
    "    if '/5.' in i:\n",
    "        inside_gallery.append(i)\n",
    "    if '/6.' in i:\n",
    "        m4_l3.append(i)\n",
    "    if '/8.' in i:\n",
    "        m5_m6.append(i)\n",
    "    if '/10.' in i:\n",
    "        l4_comp.append(i)\n",
    "        \n",
    "for i in l4_comp:\n",
    "    print(i)\n",
    "rdata = data_generator(r_paths)\n",
    "\n",
    "t_arr_waist = np.multiply(2, fit_parameter_extractor(gaussian, rdata)[2])\n",
    "\n",
    "\n",
    "\n"
   ]
  },
  {
   "cell_type": "code",
   "execution_count": null,
   "metadata": {},
   "outputs": [],
   "source": []
  }
 ],
 "metadata": {
  "kernelspec": {
   "display_name": "Python 3",
   "language": "python",
   "name": "python3"
  },
  "language_info": {
   "codemirror_mode": {
    "name": "ipython",
    "version": 3
   },
   "file_extension": ".py",
   "mimetype": "text/x-python",
   "name": "python",
   "nbconvert_exporter": "python",
   "pygments_lexer": "ipython3",
   "version": "3.6.2"
  }
 },
 "nbformat": 4,
 "nbformat_minor": 2
}
