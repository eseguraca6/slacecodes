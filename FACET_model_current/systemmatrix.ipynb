{
 "cells": [
  {
   "cell_type": "code",
   "execution_count": 38,
   "metadata": {},
   "outputs": [
    {
     "data": {
      "text/plain": [
       "Matrix([\n",
       "[             -d/f1 + 1,         d],\n",
       "[-1/f2 - (-d/f2 + 1)/f1, -d/f2 + 1]])"
      ]
     },
     "execution_count": 38,
     "metadata": {},
     "output_type": "execute_result"
    }
   ],
   "source": [
    "from sympy import *\n",
    "from sympy.physics.optics import RayTransferMatrix, ThinLens, FreeSpace\n",
    "from sympy import Symbol, Matrix\n",
    "\n",
    "f1 = Symbol('f1')\n",
    "f2 = Symbol('f2')\n",
    "lens1 = ThinLens(f1)\n",
    "lens2=ThinLens(f2)\n",
    "z1 = Symbol('z1')\n",
    "z2 = Symbol('z2')\n",
    "d = Symbol('d')\n",
    "drift_d = FreeSpace(d)\n",
    "drift_z1 = FreeSpace(z1)\n",
    "drift_z2 = FreeSpace(z2)\n",
    "\n",
    "transport = drift_z2*lens2*drift_d*lens1*drift_z1\n",
    "\n",
    "\n",
    "test= lens2*drift_d*lens1\n",
    "\n",
    "test"
   ]
  }
 ],
 "metadata": {
  "kernelspec": {
   "display_name": "Python 3",
   "language": "python",
   "name": "python3"
  },
  "language_info": {
   "codemirror_mode": {
    "name": "ipython",
    "version": 3
   },
   "file_extension": ".py",
   "mimetype": "text/x-python",
   "name": "python",
   "nbconvert_exporter": "python",
   "pygments_lexer": "ipython3",
   "version": "3.6.2"
  }
 },
 "nbformat": 4,
 "nbformat_minor": 2
}
