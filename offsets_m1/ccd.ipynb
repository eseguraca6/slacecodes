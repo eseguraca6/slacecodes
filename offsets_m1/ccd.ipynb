{
 "cells": [
  {
   "cell_type": "code",
   "execution_count": 95,
   "metadata": {},
   "outputs": [],
   "source": [
    "import subprocess\n",
    "import pandas as pd\n",
    "import numpy as np\n",
    "import matplotlib.pyplot as plt\n",
    "from subprocess import Popen, PIPE\n",
    "import os\n",
    "import time\n",
    "#tmp_pos = pd.read_csv('irradiancesetttings.txt', header=None, index_col=None)\n",
    "\n",
    "\n",
    "\n",
    "\n",
    "\n",
    "l_files = Popen([\"pwd\"], cwd = os.getcwd(), stdout=PIPE, stderr=PIPE)\n",
    "\n",
    "path = (l_files.communicate()[0].rstrip().decode('utf-8'))\n",
    "\n",
    "def data_pathfiles_generator(curr_path):\n",
    "    #to return the values \n",
    "    arr = []\n",
    "    width = []\n",
    "    #dir_path= Popen([\"ls\", \"-l\"], stdout=PIPE, stderr=PIPE)\n",
    "    process=  Popen([\"ls\"], cwd=os.getcwd(), stdout=PIPE, stderr=PIPE)\n",
    "    process_stdout = process.communicate()[0]\n",
    "    files_arr = process_stdout.decode('utf-8').splitlines()\n",
    "    file_extractor_pos = Popen([\"pwd\"],stdout=PIPE, stderr=PIPE)\n",
    "    file_extractor_pos_stdout= file_extractor_pos.communicate()[0].decode('utf-8').rstrip()\n",
    "    \n",
    "    for file in files_arr:\n",
    "        if '.csv' in file:\n",
    "            arr.append(file_extractor_pos_stdout+'/'+file)\n",
    "        if 'widths' in file:\n",
    "            width.append(file_extractor_pos_stdout+'/'+file)\n",
    "    return(arr, width)\n",
    "\n",
    "def filename_generator(path):\n",
    "    process = Popen([\"ls\"], cwd=path, stdout=PIPE, stderr=PIPE)\n",
    "    #to return the values \n",
    "    arr = []\n",
    "    process_stdout = process.communicate()[0].decode('utf-8').splitlines()\n",
    "    for l in process_stdout:\n",
    "        if '.csv' in str(l):\n",
    "            arr.append(l.replace('.csv','').strip(\"irr_offset\"))\n",
    "    return (arr)\n",
    "\n",
    "data = data_pathfiles_generator(path)\n",
    "fdata = filename_generator(path)\n",
    "\n",
    "def beam_viever(irr_grid_filelist, widthlist, fnames):\n",
    "    print(len(irr_grid_filelist))\n",
    "    for i in range(len(irr_grid_filelist)):\n",
    "        plt.figure(figsize=(10,10))\n",
    "        tmp_datarun = np.loadtxt((irr_grid_filelist[i]))\n",
    "        irrmax = np.max(tmp_datarun)\n",
    "        ext = [-widthlist[i][0]/2, widthlist[i][0]/2, -widthlist[i][1]/2, widthlist[i][1]/2]\n",
    "        print(ext)\n",
    "        plt.xlabel('X Grid (mm)', fontsize=20)\n",
    "        plt.ylabel('Y Grid (mm)', fontsize=20)\n",
    "        plt.tick_params(axis='both',labelsize=20)\n",
    "        plt.title('Beam CCD Screen ' + str(fnames[i]), fontsize=25)\n",
    "        plt.imshow(tmp_datarun, extent=ext, cmap='jet', vmin=0, vmax = irrmax, origin= 'upper')\n",
    "        #plt.show()\n",
    "        #plt.colorbar()\n",
    "        #time.sleep(0.01)\n",
    "        plt.subplots_adjust(0.85)\n",
    "        plt.tight_layout()\n",
    "        plt.subplots_adjust(top = 0.95)\n",
    "        l_files = Popen([\"pwd\"], cwd = os.getcwd(), stdout=PIPE, stderr=PIPE)\n",
    "\n",
    "        path = (l_files.communicate()[0].rstrip().decode('utf-8'))\n",
    "        plt.savefig(path+ \"/\" + \"pictures\"+ str(fnames[i])+'_beam.jpg', dpi=400)\n",
    "        #plt.imsave('test.png', data, cmap=cmap)\n",
    "        plt.close()"
   ]
  },
  {
   "cell_type": "code",
   "execution_count": 96,
   "metadata": {},
   "outputs": [
    {
     "name": "stdout",
     "output_type": "stream",
     "text": [
      "[]\n",
      "0\n"
     ]
    }
   ],
   "source": [
    "files = data_pathfiles_generator(path)\n",
    "for i in files[0]:\n",
    "    print(i)\n",
    "f = filename_generator(path)\n",
    "widths = []\n",
    "print(f)\n",
    "for i in files[1]:\n",
    "    t = np.loadtxt(i)\n",
    "    widths.append(t.tolist())\n",
    "\n",
    "beam_viever(files[0],widths, f)\n"
   ]
  }
 ],
 "metadata": {
  "kernelspec": {
   "display_name": "Python 3",
   "language": "python",
   "name": "python3"
  },
  "language_info": {
   "codemirror_mode": {
    "name": "ipython",
    "version": 3
   },
   "file_extension": ".py",
   "mimetype": "text/x-python",
   "name": "python",
   "nbconvert_exporter": "python",
   "pygments_lexer": "ipython3",
   "version": "3.6.2"
  }
 },
 "nbformat": 4,
 "nbformat_minor": 2
}
