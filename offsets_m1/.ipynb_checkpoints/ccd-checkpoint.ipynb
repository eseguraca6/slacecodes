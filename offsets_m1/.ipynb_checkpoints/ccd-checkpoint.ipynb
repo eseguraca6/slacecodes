{
 "cells": [
  {
   "cell_type": "code",
   "execution_count": 21,
   "metadata": {},
   "outputs": [],
   "source": [
    "import subprocess\n",
    "import pandas as pd\n",
    "import numpy as np\n",
    "import matplotlib.pyplot as plt\n",
    "from subprocess import Popen, PIPE\n",
    "import os\n",
    "import time\n",
    "#tmp_pos = pd.read_csv('irradiancesetttings.txt', header=None, index_col=None)\n",
    "\n",
    "\n",
    "\n",
    "s\n",
    "\n",
    "l_files = Popen([\"pwd\"], cwd = os.getcwd(), stdout=PIPE, stderr=PIPE)\n",
    "\n",
    "path = (l_files.communicate()[0].rstrip().decode('utf-8'))\n",
    "\n",
    "def data_pathfiles_generator(curr_path):\n",
    "    #to return the values \n",
    "    arr = []\n",
    "    #dir_path= Popen([\"ls\", \"-l\"], stdout=PIPE, stderr=PIPE)\n",
    "    process=  Popen([\"ls\"], cwd=os.getcwd(), stdout=PIPE, stderr=PIPE)\n",
    "    process_stdout = process.communicate()[0]\n",
    "    files_arr = process_stdout.decode('utf-8').splitlines()\n",
    "    file_extractor_pos = Popen([\"pwd\"],stdout=PIPE, stderr=PIPE)\n",
    "    file_extractor_pos_stdout= file_extractor_pos.communicate()[0].decode('utf-8').rstrip()\n",
    "    \n",
    "    for file in files_arr:\n",
    "        if '.csv' in file:\n",
    "            arr.append(file_extractor_pos_stdout+'/'+file)  \n",
    "    return(arr)\n",
    "\n",
    "def filename_generator(path):\n",
    "    process = Popen([\"ls\"], cwd=path, stdout=PIPE, stderr=PIPE)\n",
    "    #to return the values \n",
    "    arr = []\n",
    "    process_stdout = process.communicate()[0].decode('utf-8').splitlines()\n",
    "    for l in process_stdout:\n",
    "        if '.csv' in str(l):\n",
    "            arr.append(l.replace('.csv','').strip(\"irr_offset\"))\n",
    "    return (arr)\n",
    "\n",
    "data = data_pathfiles_generator(path)\n",
    "fdata = filename_generator(path)\n",
    "\n",
    "def beam_viever(irr_grid_filelist, widthlist, fnames):\n",
    "\n",
    "    for i in range(len(irr_grid_filelist)):\n",
    "        plt.figure(figsize=(10,10))\n",
    "        tmp_datarun = np.loadtxt(irr_grid_filelist[i])\n",
    "        irrmax = np.max(tmp_datarun)\n",
    "        ext = [-widthlist[i]/2, widthlist[i]/2, -widthlist[i]/2, widthlist[i]/2]\n",
    "        plt.xlabel('X Grid (mm)', fontsize=10)\n",
    "        plt.ylabel('Y Grid (mm)', fontsize=10)\n",
    "        plt.tick_params(axis='both',labelsize=5)\n",
    "        plt.title('Beam CCD Screen ' + str(fnames[i]), fontsize=25)\n",
    "        plt.imshow(tmp_datarun, extent=ext, cmap='jet', vmin=0, vmax = irrmax, origin= 'upper')\n",
    "        #plt.colorbar()\n",
    "        #time.sleep(0.01)\n",
    "        plt.subplots_adjust(0.85)\n",
    "        plt.tight_layout()\n",
    "        #plt.subplots_adjust(top = 0.95)\n",
    "        plt.imsave(str(fnames[i])+'_beam.jpg', tmp_datarun,cmap='jet', dpi=400)\n",
    "        #plt.imsave('test.png', data, cmap=cmap)\n",
    "        plt.close()"
   ]
  },
  {
   "cell_type": "code",
   "execution_count": 22,
   "metadata": {},
   "outputs": [
    {
     "name": "stdout",
     "output_type": "stream",
     "text": [
      "a\n"
     ]
    }
   ],
   "source": [
    "files = data_pathfiles_generator(path)\n",
    "f = filename_generator(path)\n",
    "w = [4.999987200000000342e+01, 4.999987200000000342e+01, 4.999987200000000342e+01, 4.999987200000000342e+01, 4.999987200000000342e+01]\n",
    "beam_viever(files,w, f)\n",
    "print('a')"
   ]
  }
 ],
 "metadata": {
  "kernelspec": {
   "display_name": "Python 3",
   "language": "python",
   "name": "python3"
  },
  "language_info": {
   "name": ""
  }
 },
 "nbformat": 4,
 "nbformat_minor": 2
}
