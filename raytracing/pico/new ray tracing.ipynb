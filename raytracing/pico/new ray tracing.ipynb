

dev = usb.core.find(ID_PRODUCT,ID_VENDOR)

if dev is None:
    raise ValueError('Device not found')

dev.set_configuration()