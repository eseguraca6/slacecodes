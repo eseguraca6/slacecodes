{
 "cells": [
  {
   "cell_type": "code",
   "execution_count": 4,
   "metadata": {},
   "outputs": [
    {
     "data": {
      "image/png": "[encoded data removed]",
      "text/latex": [
       "$$\\left ( \\left[\\begin{matrix}2 \\left(d_{1} + d_{2}\\right) \\cos{\\left (\\alpha_{1x} \\right )} \\cos{\\left (\\theta_{1} \\right )} & - 2 \\left(d_{1} + d_{2}\\right) \\sin{\\left (\\theta_{1} \\right )} \\cos{\\left (\\alpha_{1x} \\right )}\\\\2 \\left(d_{1} + d_{2}\\right) \\sin{\\left (\\theta_{1} \\right )} \\cos{\\left (\\alpha_{1y} \\right )} & 2 \\left(d_{1} + d_{2}\\right) \\cos{\\left (\\alpha_{1y} \\right )} \\cos{\\left (\\theta_{1} \\right )}\\end{matrix}\\right], \\quad \\left[\\begin{matrix}2 d_{2} \\cos{\\left (\\alpha_{2x} \\right )} \\cos{\\left (\\theta_{1} \\right )} & - 2 d_{2} \\sin{\\left (\\theta_{1} \\right )} \\cos{\\left (\\alpha_{2x} \\right )}\\\\2 d_{2} \\sin{\\left (\\theta_{1} \\right )} \\cos{\\left (\\alpha_{2y} \\right )} & 2 d_{2} \\cos{\\left (\\alpha_{2y} \\right )} \\cos{\\left (\\theta_{1} \\right )}\\end{matrix}\\right], \\quad \\left[\\begin{matrix}2 \\left(d_{1} + d_{2} + d_{3}\\right) \\cos{\\left (\\alpha_{1x} \\right )} \\cos{\\left (\\theta_{1} \\right )} & - 2 \\left(d_{1} + d_{2} + d_{3}\\right) \\sin{\\left (\\theta_{1} \\right )} \\cos{\\left (\\alpha_{1x} \\right )}\\\\2 \\left(d_{1} + d_{2} + d_{3}\\right) \\sin{\\left (\\theta_{1} \\right )} \\cos{\\left (\\alpha_{1y} \\right )} & 2 \\left(d_{1} + d_{2} + d_{3}\\right) \\cos{\\left (\\alpha_{1y} \\right )} \\cos{\\left (\\theta_{1} \\right )}\\end{matrix}\\right], \\quad \\left[\\begin{matrix}2 \\left(d_{2} + d_{3}\\right) \\cos{\\left (\\alpha_{2x} \\right )} \\cos{\\left (\\theta_{2} \\right )} & - 2 \\left(d_{2} + d_{3}\\right) \\sin{\\left (\\theta_{2} \\right )} \\cos{\\left (\\alpha_{2x} \\right )}\\\\2 \\left(d_{2} + d_{3}\\right) \\sin{\\left (\\theta_{2} \\right )} \\cos{\\left (\\alpha_{2y} \\right )} & 2 \\left(d_{2} + d_{3}\\right) \\cos{\\left (\\alpha_{2y} \\right )} \\cos{\\left (\\theta_{2} \\right )}\\end{matrix}\\right]\\right )$$"
      ],
      "text/plain": [
       "⎛⎡2⋅(d₁ + d₂)⋅cos(α₁ₓ)⋅cos(θ₁)   -2⋅(d₁ + d₂)⋅sin(θ₁)⋅cos(α₁ₓ)⎤  ⎡2⋅d₂⋅cos(α₂ₓ\n",
       "⎜⎢                                                            ⎥, ⎢            \n",
       "⎝⎣2⋅(d₁ + d₂)⋅sin(θ₁)⋅cos(α_1y)  2⋅(d₁ + d₂)⋅cos(α_1y)⋅cos(θ₁)⎦  ⎣2⋅d₂⋅sin(θ₁)\n",
       "\n",
       ")⋅cos(θ₁)   -2⋅d₂⋅sin(θ₁)⋅cos(α₂ₓ)⎤  ⎡2⋅(d₁ + d₂ + d₃)⋅cos(α₁ₓ)⋅cos(θ₁)   -2⋅(\n",
       "                                  ⎥, ⎢                                        \n",
       "⋅cos(α_2y)  2⋅d₂⋅cos(α_2y)⋅cos(θ₁)⎦  ⎣2⋅(d₁ + d₂ + d₃)⋅sin(θ₁)⋅cos(α_1y)  2⋅(d\n",
       "\n",
       "d₁ + d₂ + d₃)⋅sin(θ₁)⋅cos(α₁ₓ)⎤  ⎡2⋅(d₂ + d₃)⋅cos(α₂ₓ)⋅cos(θ₂)   -2⋅(d₂ + d₃)⋅\n",
       "                              ⎥, ⎢                                            \n",
       "₁ + d₂ + d₃)⋅cos(α_1y)⋅cos(θ₁)⎦  ⎣2⋅(d₂ + d₃)⋅sin(θ₂)⋅cos(α_2y)  2⋅(d₂ + d₃)⋅c\n",
       "\n",
       "sin(θ₂)⋅cos(α₂ₓ)⎤⎞\n",
       "                ⎥⎟\n",
       "os(α_2y)⋅cos(θ₂)⎦⎠"
      ]
     },
     "execution_count": 4,
     "metadata": {},
     "output_type": "execute_result"
    }
   ],
   "source": [
    "import sympy\n",
    "from sympy import *\n",
    "import numpy as np\n",
    "init_printing(use_unicode=True)\n",
    "from matplotlib import rc\n",
    "import mpmath\n",
    "import pandas as pd\n",
    "import matplotlib.pylab as plt\n",
    "\n",
    "\n",
    "d1, d2, d3,d4, cx1, cy1, cx2, cy2 = symbols( 'd_1 d_2  d_3 d_4 alpha_1x alpha_1y alpha_2x alpha_2y')\n",
    "varx1, vary1,varx2, vary2, theta1, theta2 = symbols('delta_1x delta_1y delta_2x delta_2y theta_1 theta_2')\n",
    "\n",
    "prop1 = Matrix([[d1, 0],[0, d1]])\n",
    "prop2 = Matrix([[d2, 0],[0, d2]])\n",
    "\n",
    "axis1 = Matrix([[2*cos(cx1), 0],[0, 2*cos(cy1)]])\n",
    "axis2 = Matrix([[2*cos(cx2), 0],[0, 2*cos(cy2)]])\n",
    "\n",
    "mirror1 = Matrix([ [tan(2*varx1),0], [0, tan(2*vary1)] ])\n",
    "rot1 = Matrix([[cos(theta1), -sin(theta1)],[sin(theta1), cos(theta1)]])\n",
    "\n",
    "beamline_1 = prop2*axis1*rot1\n",
    "\n",
    "vec = Matrix([[varx1], [vary1]])\n",
    "\n",
    "\n",
    "def subset_matrix_system(d_s, chief_x, chief_y, angle_rot):\n",
    "    prop2 = Matrix([[d_s, 0],[0, d_s]])\n",
    "\n",
    "    axis1 = Matrix([[2*cos(chief_x), 0],[0, 2*cos(chief_y)]])\n",
    "\n",
    "    rot1 = Matrix([[cos(angle_rot), -sin(angle_rot)],[sin(angle_rot), cos(angle_rot)]])\n",
    "\n",
    "    beamline_1 = prop2*axis1*rot1\n",
    "    return(beamline_1)\n",
    "\n",
    "ccd1_distance = d1+d2\n",
    "ccd2_distance = d2+d3\n",
    "\n",
    "m1_nxt = subset_matrix_system(ccd1_distance, cx1, cy1, theta1)\n",
    "m2_nxt = subset_matrix_system(ccd2_distance, cx2, cy2, theta2)\n",
    "\n",
    "m2_xt = subset_matrix_system(d2, cx2, cy2, theta1)\n",
    "m1_xt = subset_matrix_system(d1+d2+d3, cx1, cy1, theta1)\n",
    "\n",
    "\n",
    "two_mirror_system =  Matrix([ [m1_nxt, m2_xt], [m1_xt, m2_nxt] ]) #np.bmat([[m1_nxt, m2_xt], [m1_xt, m2_nxt]])\n",
    "\n",
    "a= two_mirror_system.diff\n",
    "\n",
    "\n",
    "(m1_nxt, m2_xt, m1_xt, m2_nxt)"
   ]
  },
  {
   "cell_type": "code",
   "execution_count": null,
   "metadata": {},
   "outputs": [],
   "source": []
  },
  {
   "cell_type": "code",
   "execution_count": 6,
   "metadata": {},
   "outputs": [
    {
     "data": {
      "text/plain": [
       "matrix([[  3.46382422e-14,  -5.65685425e+02],\n",
       "        [  8.00000000e+02,   4.89858720e-14]])"
      ]
     },
     "execution_count": 6,
     "metadata": {},
     "output_type": "execute_result"
    }
   ],
   "source": [
    "def beamline(dm, chiefx, chiefy, rot_angle):\n",
    "    chiefx, chiefy, rot_angle = np.deg2rad(chiefx),np.deg2rad(chiefy), np.deg2rad(rot_angle)\n",
    "    drift = np.matrix([[dm,0], [0,dm]])\n",
    "    scale = np.matrix([[2*np.cos(chiefx),0], [0,2*np.cos(chiefy)]])\n",
    "    rot_mirror = np.matrix([[np.cos(rot_angle), -np.sin(rot_angle)], [np.sin(rot_angle),  np.cos(rot_angle)]])\n",
    "    return(drift*scale*rot_mirror)\n",
    "\n",
    "a = beamline(400, 45, 0, 90)\n",
    "a"
   ]
  },
  {
   "cell_type": "code",
   "execution_count": 77,
   "metadata": {},
   "outputs": [
    {
     "data": {
      "image/png": "[encoded data removed]",
      "text/latex": [
       "$$\\left[\\begin{matrix}0 & 0\\\\0 & 0\\end{matrix}\\right]$$"
      ],
      "text/plain": [
       "⎡0  0⎤\n",
       "⎢    ⎥\n",
       "⎣0  0⎦"
      ]
     },
     "execution_count": 77,
     "metadata": {},
     "output_type": "execute_result"
    }
   ],
   "source": [
    "m1_nxt.diff(cx1, cy1)"
   ]
  },
  {
   "cell_type": "code",
   "execution_count": 72,
   "metadata": {},
   "outputs": [
    {
     "data": {
      "image/png": "[encoded data removed]",
      "text/latex": [
       "$$\\left[\\begin{matrix}\\left[\\begin{matrix}2 \\left(d_{1} + d_{2}\\right) \\cos{\\left (\\alpha_{1x} \\right )} \\cos{\\left (\\theta_{1} \\right )} & - 2 \\left(d_{1} + d_{2}\\right) \\sin{\\left (\\theta_{1} \\right )} \\cos{\\left (\\alpha_{1x} \\right )}\\\\2 \\left(d_{1} + d_{2}\\right) \\sin{\\left (\\theta_{1} \\right )} \\cos{\\left (\\alpha_{1y} \\right )} & 2 \\left(d_{1} + d_{2}\\right) \\cos{\\left (\\alpha_{1y} \\right )} \\cos{\\left (\\theta_{1} \\right )}\\end{matrix}\\right] & \\left[\\begin{matrix}2 d_{2} \\cos{\\left (\\alpha_{2x} \\right )} \\cos{\\left (\\theta_{1} \\right )} & - 2 d_{2} \\sin{\\left (\\theta_{1} \\right )} \\cos{\\left (\\alpha_{2x} \\right )}\\\\2 d_{2} \\sin{\\left (\\theta_{1} \\right )} \\cos{\\left (\\alpha_{2y} \\right )} & 2 d_{2} \\cos{\\left (\\alpha_{2y} \\right )} \\cos{\\left (\\theta_{1} \\right )}\\end{matrix}\\right]\\\\\\left[\\begin{matrix}2 \\left(d_{1} + d_{2} + d_{3}\\right) \\cos{\\left (\\alpha_{1x} \\right )} \\cos{\\left (\\theta_{1} \\right )} & - 2 \\left(d_{1} + d_{2} + d_{3}\\right) \\sin{\\left (\\theta_{1} \\right )} \\cos{\\left (\\alpha_{1x} \\right )}\\\\2 \\left(d_{1} + d_{2} + d_{3}\\right) \\sin{\\left (\\theta_{1} \\right )} \\cos{\\left (\\alpha_{1y} \\right )} & 2 \\left(d_{1} + d_{2} + d_{3}\\right) \\cos{\\left (\\alpha_{1y} \\right )} \\cos{\\left (\\theta_{1} \\right )}\\end{matrix}\\right] & \\left[\\begin{matrix}2 \\left(d_{2} + d_{3}\\right) \\cos{\\left (\\alpha_{2x} \\right )} \\cos{\\left (\\theta_{2} \\right )} & - 2 \\left(d_{2} + d_{3}\\right) \\sin{\\left (\\theta_{2} \\right )} \\cos{\\left (\\alpha_{2x} \\right )}\\\\2 \\left(d_{2} + d_{3}\\right) \\sin{\\left (\\theta_{2} \\right )} \\cos{\\left (\\alpha_{2y} \\right )} & 2 \\left(d_{2} + d_{3}\\right) \\cos{\\left (\\alpha_{2y} \\right )} \\cos{\\left (\\theta_{2} \\right )}\\end{matrix}\\right]\\end{matrix}\\right]$$"
      ],
      "text/plain": [
       "⎡     ⎡2⋅(d₁ + d₂)⋅cos(α₁ₓ)⋅cos(θ₁)   -2⋅(d₁ + d₂)⋅sin(θ₁)⋅cos(α₁ₓ)⎤          \n",
       "⎢     ⎢                                                            ⎥          \n",
       "⎢     ⎣2⋅(d₁ + d₂)⋅sin(θ₁)⋅cos(α_1y)  2⋅(d₁ + d₂)⋅cos(α_1y)⋅cos(θ₁)⎦          \n",
       "⎢                                                                             \n",
       "⎢⎡2⋅(d₁ + d₂ + d₃)⋅cos(α₁ₓ)⋅cos(θ₁)   -2⋅(d₁ + d₂ + d₃)⋅sin(θ₁)⋅cos(α₁ₓ)⎤  ⎡2⋅\n",
       "⎢⎢                                                                      ⎥  ⎢  \n",
       "⎣⎣2⋅(d₁ + d₂ + d₃)⋅sin(θ₁)⋅cos(α_1y)  2⋅(d₁ + d₂ + d₃)⋅cos(α_1y)⋅cos(θ₁)⎦  ⎣2⋅\n",
       "\n",
       "    ⎡2⋅d₂⋅cos(α₂ₓ)⋅cos(θ₁)   -2⋅d₂⋅sin(θ₁)⋅cos(α₂ₓ)⎤       ⎤\n",
       "    ⎢                                              ⎥       ⎥\n",
       "    ⎣2⋅d₂⋅sin(θ₁)⋅cos(α_2y)  2⋅d₂⋅cos(α_2y)⋅cos(θ₁)⎦       ⎥\n",
       "                                                           ⎥\n",
       "(d₂ + d₃)⋅cos(α₂ₓ)⋅cos(θ₂)   -2⋅(d₂ + d₃)⋅sin(θ₂)⋅cos(α₂ₓ)⎤⎥\n",
       "                                                          ⎥⎥\n",
       "(d₂ + d₃)⋅sin(θ₂)⋅cos(α_2y)  2⋅(d₂ + d₃)⋅cos(α_2y)⋅cos(θ₂)⎦⎦"
      ]
     },
     "execution_count": 72,
     "metadata": {},
     "output_type": "execute_result"
    }
   ],
   "source": [
    "two_mirror_system"
   ]
  },
  {
   "cell_type": "code",
   "execution_count": 39,
   "metadata": {},
   "outputs": [
    {
     "data": {
      "image/png": "[encoded data removed]",
      "text/latex": [
       "$$\\left ( \\left[\\begin{matrix}d_{2} & 0\\\\0 & d_{2}\\end{matrix}\\right], \\quad \\left[\\begin{matrix}2 \\cos{\\left (\\alpha_{2x} \\right )} & 0\\\\0 & 2 \\cos{\\left (\\alpha_{2y} \\right )}\\end{matrix}\\right], \\quad \\left[\\begin{matrix}\\cos{\\left (\\theta_{1} \\right )} & - \\sin{\\left (\\theta_{1} \\right )}\\\\\\sin{\\left (\\theta_{1} \\right )} & \\cos{\\left (\\theta_{1} \\right )}\\end{matrix}\\right]\\right )$$"
      ],
      "text/plain": [
       "⎛⎡d₂  0 ⎤  ⎡2⋅cos(α₂ₓ)       0     ⎤  ⎡cos(θ₁)  -sin(θ₁)⎤⎞\n",
       "⎜⎢      ⎥, ⎢                       ⎥, ⎢                 ⎥⎟\n",
       "⎝⎣0   d₂⎦  ⎣    0       2⋅cos(α_2y)⎦  ⎣sin(θ₁)  cos(θ₁) ⎦⎠"
      ]
     },
     "execution_count": 39,
     "metadata": {},
     "output_type": "execute_result"
    }
   ],
   "source": [
    "(prop2, axis2, rot1)"
   ]
  },
  {
   "cell_type": "code",
   "execution_count": 40,
   "metadata": {},
   "outputs": [
    {
     "data": {
      "image/png": "[encoded data removed]",
      "text/latex": [
       "$$\\left[\\begin{matrix}2 d_{2} \\cos{\\left (\\alpha_{1x} \\right )} \\cos{\\left (\\theta_{1} \\right )} & - 2 d_{2} \\sin{\\left (\\theta_{1} \\right )} \\cos{\\left (\\alpha_{1x} \\right )}\\\\2 d_{2} \\sin{\\left (\\theta_{1} \\right )} \\cos{\\left (\\alpha_{1y} \\right )} & 2 d_{2} \\cos{\\left (\\alpha_{1y} \\right )} \\cos{\\left (\\theta_{1} \\right )}\\end{matrix}\\right]$$"
      ],
      "text/plain": [
       "⎡2⋅d₂⋅cos(α₁ₓ)⋅cos(θ₁)   -2⋅d₂⋅sin(θ₁)⋅cos(α₁ₓ)⎤\n",
       "⎢                                              ⎥\n",
       "⎣2⋅d₂⋅sin(θ₁)⋅cos(α_1y)  2⋅d₂⋅cos(α_1y)⋅cos(θ₁)⎦"
      ]
     },
     "execution_count": 40,
     "metadata": {},
     "output_type": "execute_result"
    }
   ],
   "source": [
    "beamline_1"
   ]
  },
  {
   "cell_type": "code",
   "execution_count": 46,
   "metadata": {},
   "outputs": [
    {
     "data": {
      "image/png": "[encoded data removed]",
      "text/latex": [
       "$$\\left[\\begin{matrix}3.46382422494197 \\cdot 10^{-14} \\delta_{1x} - 565.685424949238 \\delta_{1y}\\\\800.0 \\delta_{1x} + 4.89858719658941 \\cdot 10^{-14} \\delta_{1y}\\end{matrix}\\right]$$"
      ],
      "text/plain": [
       "⎡3.46382422494197e-14⋅δ₁ₓ - 565.685424949238⋅δ_1y⎤\n",
       "⎢                                                ⎥\n",
       "⎣     800.0⋅δ₁ₓ + 4.89858719658941e-14⋅δ_1y      ⎦"
      ]
     },
     "execution_count": 46,
     "metadata": {},
     "output_type": "execute_result"
    }
   ],
   "source": [
    "beamline_1.subs([(theta1,np.deg2rad(90)), (cx1,np.deg2rad(45)), (cy1,np.deg2rad(0)), (d2,400)    ])*(vec.subs((varx1, np.deg2rad(1)),(vary1, np.deg2rad(1))))"
   ]
  }
 ],
 "metadata": {
  "kernelspec": {
   "display_name": "Python 3",
   "language": "python",
   "name": "python3"
  },
  "language_info": {
   "codemirror_mode": {
    "name": "ipython",
    "version": 3
   },
   "file_extension": ".py",
   "mimetype": "text/x-python",
   "name": "python",
   "nbconvert_exporter": "python",
   "pygments_lexer": "ipython3",
   "version": "3.6.2"
  }
 },
 "nbformat": 4,
 "nbformat_minor": 2
}
