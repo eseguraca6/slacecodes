{
 "cells": [
  {
   "cell_type": "code",
   "execution_count": null,
   "metadata": {},
   "outputs": [],
   "source": [
    "import telnetlib\n",
    "import time\n",
    "#import sys\n",
    "\n",
    "# I can read from the telnet socket after running\n",
    "\n",
    "host = '169.254.196.1'\n",
    "port = '23'\n",
    "MESSAGE1 = 've?\\r\\n'\n",
    "MESSAGE2 = '1pa1000\\r\\n'\n",
    "TIMEOUT = 1\n",
    "\n",
    "tn = telnetlib.Telnet(host,port)\n",
    "\n",
    "\n",
    "time.sleep(3)\n",
    "print repr(MESSAGE1)\n",
    "tn.write( MESSAGE1.encode('ascii') )\n",
    "#data = tn.read_some() # blocks until response is recieved\n",
    "time.sleep(0.1)\n",
    "data = tn.read_eager()\n",
    "print \"data: \", repr(data)\n",
    "\n",
    "tn.close()\n",
    "\n",
    "print(\"a\")"
   ]
  }
 ],
 "metadata": {
  "kernelspec": {
   "display_name": "Python 2",
   "language": "python",
   "name": "python2"
  },
  "language_info": {
   "codemirror_mode": {
    "name": "ipython",
    "version": 2
   },
   "file_extension": ".py",
   "mimetype": "text/x-python",
   "name": "python",
   "nbconvert_exporter": "python",
   "pygments_lexer": "ipython2",
   "version": "2.7.14"
  }
 },
 "nbformat": 4,
 "nbformat_minor": 2
}
