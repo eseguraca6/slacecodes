{
 "cells": [
  {
   "cell_type": "code",
   "execution_count": 28,
   "metadata": {},
   "outputs": [
    {
     "data": {
      "image/png": "[encoded data removed]",
      "text/latex": [
       "$$\\left[\\begin{matrix}dx\\\\dy\\\\- \\frac{dx}{6200}\\\\- \\frac{dy}{6200}\\\\1\\end{matrix}\\right]$$"
      ],
      "text/plain": [
       "⎡ dx ⎤\n",
       "⎢    ⎥\n",
       "⎢ dy ⎥\n",
       "⎢    ⎥\n",
       "⎢-dx ⎥\n",
       "⎢────⎥\n",
       "⎢6200⎥\n",
       "⎢    ⎥\n",
       "⎢-dy ⎥\n",
       "⎢────⎥\n",
       "⎢6200⎥\n",
       "⎢    ⎥\n",
       "⎣ 1  ⎦"
      ]
     },
     "execution_count": 28,
     "metadata": {},
     "output_type": "execute_result"
    }
   ],
   "source": [
    "import sympy\n",
    "from sympy import *\n",
    "import numpy as np\n",
    "init_printing(use_unicode=True)\n",
    "from matplotlib import rc\n",
    "import mpmath\n",
    "rc('font',**{'family':'sans-serif','sans-serif':['Helvetica']})\n",
    "## for Palatino and other serif fonts use:\n",
    "#rc('font',**{'family':'serif','serif':['Palatino']})\n",
    "rc('text', usetex=True)\n",
    "\n",
    "d_1, d_2, f1, f2 = symbols('d_1 d_2 f_1 f_2')\n",
    "dx, dy = symbols('dx, dy')\n",
    "d_0 = symbols('d_{0}')\n",
    "xi, yi, thxi, thyi = symbols('x y theta_x theta_y')\n",
    "\n",
    "drift2 = Matrix([[1, 0, d_2,0,0], [0,1,0,d_2,0], [0,0,1,0,0], [0,0,0,1,0], [0,0,0,0,1]])\n",
    "drift1 = Matrix([[1, 0, d_1,0,0], [0,1,0,d_1,0], [0,0,1,0,0], [0,0,0,1,0], [0,0,0,0,1]])\n",
    "drift0 = Matrix([[1, 0, d_0,0,0], [0,1,0,d_0,0], [0,0,1,0,0], [0,0,0,1,0], [0,0,0,0,1]])\n",
    "lens2 = Matrix([ [1,0,0,0,0],[0,1,0,0,0],[-1/f1,0,1,0,0], [0,-1/f1,0,1,0], [0,0,0,0,1] ])\n",
    "lens1 = Matrix([ [1,0,0,0,dx],[0,1,0,0,dy],[-1/f1,0,1,0,0], [0,-1/f1,0,1,0], [0,0,0,0,1] ])\n",
    "\n",
    "transport = lens2*drift1*lens1\n",
    "vec = Matrix([ [xi], [yi], [thxi], [thyi], [1]])\n",
    "\n",
    "vec_simple = Matrix([ [0], [0], [0], [0], [1]])\n",
    "\n",
    "result = transport*vec\n",
    "result\n",
    "result.subs([ (f1,6200), (d_1,12503.4), (f2,6200), (d_2,6200)] )\n",
    "\n",
    "#result.simplify\n",
    "\n",
    "#transport\n",
    "\n",
    "drift_max_d = 12501.7\n",
    "\n",
    "comp_d = 6200\n",
    "\n",
    "prior_d = 2394\n",
    "\n",
    "(transport*vec_simple).subs([(f1,6200)])"
   ]
  },
  {
   "cell_type": "code",
   "execution_count": null,
   "metadata": {},
   "outputs": [],
   "source": []
  },
  {
   "cell_type": "code",
   "execution_count": 29,
   "metadata": {},
   "outputs": [
    {
     "data": {
      "image/png": "[encoded data removed]",
      "text/latex": [
       "$$\\left[\\begin{matrix}\\left(d_{1} \\cos{\\left (\\theta_{1} \\right )} - \\sin{\\left (\\theta_{1} \\right )} \\cos{\\left (\\alpha_{x1} \\right )}\\right) \\tan{\\left (2 \\delta_{x1} \\right )}\\\\\\cos{\\left (\\theta_{1} \\right )} \\tan{\\left (2 \\delta_{x1} \\right )}\\\\1\\end{matrix}\\right]$$"
      ],
      "text/plain": [
       "⎡(d₁⋅cos(θ₁) - sin(θ₁)⋅cos(αₓ₁))⋅tan(2⋅δₓ₁)⎤\n",
       "⎢                                          ⎥\n",
       "⎢            cos(θ₁)⋅tan(2⋅δₓ₁)            ⎥\n",
       "⎢                                          ⎥\n",
       "⎣                    1                     ⎦"
      ]
     },
     "execution_count": 29,
     "metadata": {},
     "output_type": "execute_result"
    }
   ],
   "source": [
    "d_3 = symbols('d_3')\n",
    "\n",
    "drift2 = Matrix([[1,d_2,0], [0,1,0], [0,0,1] ])\n",
    "drift1 = Matrix([[1,d_1,0], [0,1,0], [0,0,1] ])\n",
    "drift0 = Matrix([[1,d_0,0], [0,1,0], [0,0,1] ])\n",
    "drift3 = Matrix([[1,d_3,0], [0,1,0], [0,0,1] ])\n",
    "\n",
    "theta1, theta2 = symbols(\"theta_1 theta_2\")\n",
    "\n",
    "varx1, varx2 = symbols('delta_x1 delta_x2')\n",
    "alpha1x, alpha2x = symbols('alpha_x1 alpha_x2')\n",
    "\n",
    "tilt_m1 = Matrix([ [1,0,0], [0,1,tan (2*varx1) ], [0,0,1] ])\n",
    "\n",
    "tilt_m2 = Matrix([ [1,0,0], [0,1,tan (2*varx2)], [0,0,1] ])\n",
    "\n",
    "scale_x1 = Matrix([ [cos(alpha1x),0,0], [0,1,0 ], [0,0,1] ])\n",
    "\n",
    "scale_x2 =Matrix([ [cos(alpha2x),0,0], [0,1,0 ], [0,0,1] ])\n",
    "\n",
    "rot1 = Matrix([ [cos(theta1),-sin(theta1),0], [sin(theta1),cos(theta1),0 ], [0,0,1] ])\n",
    "rot2 = Matrix([ [cos(theta2),-sin(theta2),0], [sin(theta2),cos(theta2), 0 ], [0,0,1] ])\n",
    "\n",
    "vec_simple = Matrix([ [0], [0], [1]])\n",
    "onemirror_system = drift1*scale_x1*rot1*tilt_m1*drift0\n",
    "\n",
    "onemirror_system*vec_simple\n",
    "\n"
   ]
  },
  {
   "cell_type": "code",
   "execution_count": 33,
   "metadata": {},
   "outputs": [
    {
     "name": "stdout",
     "output_type": "stream",
     "text": [
      "\\left[\\begin{matrix}d_{1} \\sin{\\left (\\theta_{1} \\right )} + \\cos{\\left (\\alpha_{x1} \\right )} \\cos{\\left (\\theta_{1} \\right )} & d_{1} \\cos{\\left (\\theta_{1} \\right )} + d_{0} \\left(d_{1} \\sin{\\left (\\theta_{1} \\right )} + \\cos{\\left (\\alpha_{x1} \\right )} \\cos{\\left (\\theta_{1} \\right )}\\right) - \\sin{\\left (\\theta_{1} \\right )} \\cos{\\left (\\alpha_{x1} \\right )} & \\left(d_{1} \\cos{\\left (\\theta_{1} \\right )} - \\sin{\\left (\\theta_{1} \\right )} \\cos{\\left (\\alpha_{x1} \\right )}\\right) \\tan{\\left (2 \\delta_{x1} \\right )}\\\\\\sin{\\left (\\theta_{1} \\right )} & d_{0} \\sin{\\left (\\theta_{1} \\right )} + \\cos{\\left (\\theta_{1} \\right )} & \\cos{\\left (\\theta_{1} \\right )} \\tan{\\left (2 \\delta_{x1} \\right )}\\\\0 & 0 & 1\\end{matrix}\\right]\n"
     ]
    }
   ],
   "source": [
    "(drift1, scale_x1, rot1, tilt_m1, drift0,onemirror_system)\n",
    "\n",
    "print(latex(onemirror_system))"
   ]
  },
  {
   "cell_type": "code",
   "execution_count": 60,
   "metadata": {},
   "outputs": [
    {
     "name": "stdout",
     "output_type": "stream",
     "text": [
      "Matrix([[6199/1240], [-1/1240], [1]])\n"
     ]
    }
   ],
   "source": [
    "drift2 = Matrix([[1,d_2,0], [0,1,0], [0,0,1] ])\n",
    "drift1 = Matrix([[1,d_1,0], [0,1,0], [0,0,1] ])\n",
    "drift0 = Matrix([[1,d_0,0], [0,1,0], [0,0,1] ])\n",
    "lens2 = Matrix([[1,0,0], [-1/f1,1,0], [0,0,1] ])\n",
    "lens1 = Matrix([[1,0,dx], [-1/f1,1,0], [0,0,1] ])\n",
    "\n",
    "transport = drift2*lens2*drift1*lens1\n",
    "\n",
    "vec = Matrix([ [xi],[thxi],[1]])\n",
    "\n",
    "vec_simple = Matrix([ [0], [0], [1]])\n",
    "\n",
    "result = transport*vec_simple\n",
    "\n",
    "a=result.subs([ (f1,6200), (d_1,12503.4), (f2,6200), (d_2,1), (dx,5)] )\n",
    "\n",
    "print(a)"
   ]
  },
  {
   "cell_type": "code",
   "execution_count": 55,
   "metadata": {},
   "outputs": [
    {
     "data": {
      "image/png": "[encoded data removed]",
      "text/latex": [
       "$$\\left[\\begin{matrix}- \\frac{d_{1}}{f_{1}} + 1 & d_{1} & dx\\\\- \\frac{1}{f_{1}} \\left(- \\frac{d_{1}}{f_{1}} + 1\\right) - \\frac{1}{f_{1}} & - \\frac{d_{1}}{f_{1}} + 1 & - \\frac{dx}{f_{1}}\\\\0 & 0 & 1\\end{matrix}\\right]$$"
      ],
      "text/plain": [
       "⎡     d₁                        ⎤\n",
       "⎢   - ── + 1         d₁      dx ⎥\n",
       "⎢     f₁                        ⎥\n",
       "⎢                               ⎥\n",
       "⎢    d₁                         ⎥\n",
       "⎢  - ── + 1                     ⎥\n",
       "⎢    f₁       1     d₁      -dx ⎥\n",
       "⎢- ──────── - ──  - ── + 1  ────⎥\n",
       "⎢     f₁      f₁    f₁       f₁ ⎥\n",
       "⎢                               ⎥\n",
       "⎣       0            0       1  ⎦"
      ]
     },
     "execution_count": 55,
     "metadata": {},
     "output_type": "execute_result"
    }
   ],
   "source": [
    "transport"
   ]
  },
  {
   "cell_type": "code",
   "execution_count": 8,
   "metadata": {},
   "outputs": [
    {
     "data": {
      "image/png": "[encoded data removed]",
      "text/latex": [
       "$$\\left[\\begin{matrix}-1.01640322580645 & 10068.4306774194 & 5\\\\2.64568158168574 \\cdot 10^{-6} & -1.0100694640999 & - \\frac{1}{1240}\\\\0 & 0 & 1\\end{matrix}\\right]$$"
      ],
      "text/plain": [
       "⎡ -1.01640322580645   10068.4306774194     5   ⎤\n",
       "⎢                                              ⎥\n",
       "⎢2.64568158168574e-6  -1.0100694640999  -1/1240⎥\n",
       "⎢                                              ⎥\n",
       "⎣         0                  0             1   ⎦"
      ]
     },
     "execution_count": 8,
     "metadata": {},
     "output_type": "execute_result"
    }
   ],
   "source": [
    "transport.subs([ (f1,6200), (d_0,prior_d), (d_1,drift_max_d), (f2,6200), (d_2,0), (dx,5)] )"
   ]
  },
  {
   "cell_type": "code",
   "execution_count": 23,
   "metadata": {},
   "outputs": [
    {
     "data": {
      "image/png": "[encoded data removed]",
      "text/latex": [
       "$$\\left[\\begin{matrix}dx + \\theta_{x} \\left(d_{1} \\left(- \\frac{d_{2}}{f_{1}} + 1\\right) + d_{2}\\right) + x \\left(- \\frac{d_{2}}{f_{1}} + 1\\right)\\\\\\theta_{x} \\left(- \\frac{d_{1}}{f_{1}} + 1\\right) - \\frac{x}{f_{1}}\\\\1\\end{matrix}\\right]$$"
      ],
      "text/plain": [
       "⎡        ⎛   ⎛  d₂    ⎞     ⎞     ⎛  d₂    ⎞⎤\n",
       "⎢dx + θₓ⋅⎜d₁⋅⎜- ── + 1⎟ + d₂⎟ + x⋅⎜- ── + 1⎟⎥\n",
       "⎢        ⎝   ⎝  f₁    ⎠     ⎠     ⎝  f₁    ⎠⎥\n",
       "⎢                                           ⎥\n",
       "⎢               ⎛  d₁    ⎞   x              ⎥\n",
       "⎢            θₓ⋅⎜- ── + 1⎟ - ──             ⎥\n",
       "⎢               ⎝  f₁    ⎠   f₁             ⎥\n",
       "⎢                                           ⎥\n",
       "⎣                     1                     ⎦"
      ]
     },
     "execution_count": 23,
     "metadata": {},
     "output_type": "execute_result"
    }
   ],
   "source": [
    "t = drift2*lens1*drift1\n",
    "\n",
    "t.subs([(f1,6200), (d_2,6200), (d_1,6200),(dx,5)])\n",
    "\n",
    "t*vec"
   ]
  }
 ],
 "metadata": {
  "kernelspec": {
   "display_name": "Python 3",
   "language": "python",
   "name": "python3"
  },
  "language_info": {
   "codemirror_mode": {
    "name": "ipython",
    "version": 3
   },
   "file_extension": ".py",
   "mimetype": "text/x-python",
   "name": "python",
   "nbconvert_exporter": "python",
   "pygments_lexer": "ipython3",
   "version": "3.6.2"
  }
 },
 "nbformat": 4,
 "nbformat_minor": 2
}
