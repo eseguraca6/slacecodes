{
 "cells": [
  {
   "cell_type": "code",
   "execution_count": 9,
   "metadata": {},
   "outputs": [
    {
     "name": "stdout",
     "output_type": "stream",
     "text": [
      "0\n",
      "1085\n",
      "1602\n",
      "2119\n",
      "2636\n",
      "3506.5\n",
      "4277.0\n",
      "5047.5\n",
      "5818.0\n",
      "7348.25\n",
      "8878.5\n",
      "10408.75\n",
      "11939.0\n",
      "12442.075\n",
      "12945.150000000001\n",
      "13448.225000000002\n",
      "13951.300000000003\n",
      "17267.575000000004\n",
      "20202.150000000005\n",
      "23136.725000000006\n",
      "26071.300000000007\n",
      "26925.500000000007\n",
      "27398.000000000007\n",
      "27870.500000000007\n",
      "28343.000000000007\n",
      "25\n"
     ]
    }
   ],
   "source": [
    "drift_l1_m2 = [517]*4\n",
    "drift_l2_m3 = [770.5]*4\n",
    "drift_insidegallery = [1530.25]*4\n",
    "drift_m3_l4 = [503.075]*4\n",
    "drift_iptable = [2934.575]*4\n",
    "drift_l4_comp = [472.5]*4\n",
    "\n",
    "pos = [0]\n",
    "\n",
    "for i in range(len(drift_l1_m2)):\n",
    "    if i ==0:\n",
    "        pos.append(pos[-1]+568+drift_l1_m2[i])\n",
    "    else:\n",
    "        pos.append(pos[-1]+drift_l1_m2[i])\n",
    "\n",
    "for i in range(len(drift_l2_m3)):\n",
    "    if i ==0:\n",
    "        pos.append(pos[-1]+100+drift_l2_m3[i])\n",
    "    else:\n",
    "        pos.append(pos[-1]+drift_l2_m3[i])\n",
    "\n",
    "for i in range(len(drift_insidegallery)):\n",
    "    pos.append(pos[-1]+drift_insidegallery[i])\n",
    "    \n",
    "for i in range(len(drift_m3_l4 )):\n",
    "    pos.append(pos[-1]+drift_m3_l4 [i])    \n",
    "\n",
    "for i in range(len(drift_iptable)):\n",
    "    if i ==0:\n",
    "        pos.append(pos[-1]+381.7+drift_iptable[i])\n",
    "    else:\n",
    "        pos.append(pos[-1]+drift_iptable[i])\n",
    "    \n",
    "for i in range(len(drift_l4_comp)):\n",
    "    if i ==0:\n",
    "        pos.append(pos[-1]+381.7+drift_l4_comp[i])\n",
    "    else:\n",
    "        pos.append(pos[-1]+drift_l4_comp[i])\n",
    "for i in pos:\n",
    "    print(i)\n",
    "    \n",
    "print(len(pos))"
   ]
  },
  {
   "cell_type": "code",
   "execution_count": 1,
   "metadata": {},
   "outputs": [
    {
     "name": "stdout",
     "output_type": "stream",
     "text": [
      "1 14\n",
      "2 15\n",
      "3 38\n",
      "4 36\n",
      "5 2145\n",
      "6 145\n"
     ]
    }
   ],
   "source": [
    "parameters = range(1,7)\n",
    "values = [14, 15, 38, \n",
    "         36, 2145, 145]\n",
    "\n",
    "for par, val in zip(parameters, values):\n",
    "    print(par,val)"
   ]
  },
  {
   "cell_type": "code",
   "execution_count": 5,
   "metadata": {},
   "outputs": [
    {
     "data": {
      "text/plain": [
       "1.3395365167683664"
      ]
     },
     "execution_count": 5,
     "metadata": {},
     "output_type": "execute_result"
    }
   ],
   "source": [
    "import numpy as np\n",
    "\n",
    "def raleigh_range(beam_waist, wv_lambda):\n",
    "    #change to mm\\n\",\n",
    "    wv_adjust = wv_lambda*(10**-6)\n",
    "    wavelength_dependency = np.multiply(np.pi, np.square(beam_waist)) \n",
    "    return(np.divide(wavelength_dependency, wv_adjust))\n",
    "\n",
    "def beam_waist(z, beam_waist_0, wv_lambda):\n",
    "  #lambda is in nm, so it needs to be adjusted to mm \\n\",\n",
    "    #call raleigh_range \\n\",\n",
    "    curr_raleigh = raleigh_range(beam_waist_0, wv_lambda)\n",
    "    z_ratio = np.divide(z,curr_raleigh)\n",
    "    root_factor = np.sqrt(1 + np.square(z_ratio))\n",
    "    return(np.multiply(beam_waist_0,root_factor))\n",
    "raleigh_range(1,800)\n",
    "\n",
    "beam_waist(3500, 1, 800)"
   ]
  }
 ],
 "metadata": {
  "kernelspec": {
   "display_name": "Python 3",
   "language": "python",
   "name": "python3"
  },
  "language_info": {
   "codemirror_mode": {
    "name": "ipython",
    "version": 3
   },
   "file_extension": ".py",
   "mimetype": "text/x-python",
   "name": "python",
   "nbconvert_exporter": "python",
   "pygments_lexer": "ipython3",
   "version": "3.6.2"
  }
 },
 "nbformat": 4,
 "nbformat_minor": 2
}
